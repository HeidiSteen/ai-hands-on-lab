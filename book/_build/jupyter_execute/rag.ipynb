{
 "cells": [
  {
   "cell_type": "markdown",
   "id": "2f97845a",
   "metadata": {},
   "source": [
    "# Retrieval Augmented Generation (RAG)\n",
    "\n",
    "```{seealso}\n",
    "New to copilot and RAG concepts? \n",
    "- Watch [Vector search and state of the art retrieval for Generative AI apps.](https://ignite.microsoft.com/en-US/sessions/18618ca9-0e4d-4f9d-9a28-0bc3ef5cf54e?source=sessions)\n",
    "- Read [Retrieval Augmented Generation (RAG) in Azure AI Search](https://learn.microsoft.com/en-us/azure/search/retrieval-augmented-generation-overview)\n",
    "```\n",
    "RAG is not the only solution for incorporating domain knowledge:\n",
    "![domain-knowledge](domain-knowledge.png)\n",
    "\n",
    "\n",
    "How does RAG work?\n",
    "\n",
    "![RAG_pattern](rag-pattern.png)\n",
    "\n",
    "## Approaches for RAG with Azure AI Search\n",
    "Microsoft has several built-in implementations for using Azure AI Search in a RAG solution.\n",
    "\n",
    "1. Azure AI Studio, [use a vector index and retrieval augmentation - Preview](https://learn.microsoft.com/en-us/azure/ai-studio/concepts/retrieval-augmented-generation).\n",
    "2. Azure OpenAI Studio, [use a search index with or without vectors - Preview](https://learn.microsoft.com/en-us/azure/ai-services/openai/concepts/use-your-data?tabs=ai-search).\n",
    "3. Azure Machine Learning, [use a search index as a vector store in a prompt flow - Preview](https://learn.microsoft.com/en-us/azure/machine-learning/how-to-create-vector-index?view=azureml-api-2).\n",
    "\n",
    "### Create an Azure Cognitive Search based Vector Index for Document Retrieval with AzureML"
   ]
  },
  {
   "cell_type": "code",
   "execution_count": null,
   "id": "ce41b8b8",
   "metadata": {},
   "outputs": [],
   "source": []
  },
  {
   "cell_type": "markdown",
   "id": "1b72fca0",
   "metadata": {},
   "source": [
    "Pre-requisites:\n",
    "- Azure Search Service (which can host one or more search indexes) - portal?\n",
    "\n",
    "To create the index:\n",
    "- Data Source - a `link` to some data storage\n",
    "- Azure Cognitive Index - defines the data structure over which to search\n",
    "    - Create an empty index based on an index schema\n",
    "    - Fill in the data using the Search Indexer (below_)\n",
    "- Azure (Cognitive) Search Indexer - which indexes the data."
   ]
  }
 ],
 "metadata": {
  "jupytext": {
   "formats": "md:myst",
   "text_representation": {
    "extension": ".md",
    "format_name": "myst",
    "format_version": 0.13,
    "jupytext_version": "1.11.5"
   }
  },
  "kernelspec": {
   "display_name": "Python 3",
   "language": "python",
   "name": "python3"
  },
  "language_info": {
   "codemirror_mode": {
    "name": "ipython",
    "version": 3
   },
   "file_extension": ".py",
   "mimetype": "text/x-python",
   "name": "python",
   "nbconvert_exporter": "python",
   "pygments_lexer": "ipython3",
   "version": "3.11.4"
  },
  "source_map": [
   13,
   39,
   41
  ]
 },
 "nbformat": 4,
 "nbformat_minor": 5
}