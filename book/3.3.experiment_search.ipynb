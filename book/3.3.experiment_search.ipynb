{
 "cells": [
  {
   "cell_type": "markdown",
   "metadata": {},
   "source": [
    "# Search\n",
    "\n",
    "Search is at the core of the RAG pattern. Precise, efficient, and consistent search is critical when implementing a solution based on RAG.\n"
   ]
  },
  {
   "cell_type": "markdown",
   "metadata": {},
   "source": [
    "### Perform a hybrid search\n",
    "\n",
    "Hybrid Retrieval brings out the best of Keyword and Vector Search\n",
    "\n",
    "Keyword and vector retrieval tackle search from different perspectives, which yield complementary capabilities. Vector retrieval semantically matches queries to passages with similar meanings. This is powerful because embeddings are less sensitive to misspellings, synonyms, and phrasing differences and can even work in cross lingual scenarios. Keyword search is useful because it prioritizes matching specific, important words that might be diluted in an embedding.\n",
    "\n",
    "User search can take many forms. Hybrid retrieval consistently brings out the best from both retrieval methods across query types. With the most effective L1, the L2 ranking step can significantly improve the quality of results in the top positions.\n"
   ]
  },
  {
   "cell_type": "code",
   "execution_count": 2,
   "metadata": {},
   "outputs": [
    {
     "name": "stdout",
     "output_type": "stream",
     "text": [
      "Requirement already satisfied: python-dotenv in c:\\projects\\workshop2024\\.venv\\lib\\site-packages (1.0.0)\n",
      "Note: you may need to restart the kernel to use updated packages.\n"
     ]
    },
    {
     "name": "stderr",
     "output_type": "stream",
     "text": [
      "\n",
      "[notice] A new release of pip is available: 23.3.2 -> 24.0\n",
      "[notice] To update, run: python.exe -m pip install --upgrade pip\n"
     ]
    },
    {
     "name": "stdout",
     "output_type": "stream",
     "text": [
      "Requirement already satisfied: azure-search-documents==11.4.0 in c:\\projects\\workshop2024\\.venv\\lib\\site-packages (11.4.0)\n",
      "Requirement already satisfied: azure-core<2.0.0,>=1.28.0 in c:\\projects\\workshop2024\\.venv\\lib\\site-packages (from azure-search-documents==11.4.0) (1.29.7)\n",
      "Requirement already satisfied: azure-common~=1.1 in c:\\projects\\workshop2024\\.venv\\lib\\site-packages (from azure-search-documents==11.4.0) (1.1.28)\n",
      "Requirement already satisfied: isodate>=0.6.0 in c:\\projects\\workshop2024\\.venv\\lib\\site-packages (from azure-search-documents==11.4.0) (0.6.1)\n",
      "Requirement already satisfied: requests>=2.21.0 in c:\\projects\\workshop2024\\.venv\\lib\\site-packages (from azure-core<2.0.0,>=1.28.0->azure-search-documents==11.4.0) (2.31.0)\n",
      "Requirement already satisfied: six>=1.11.0 in c:\\projects\\workshop2024\\.venv\\lib\\site-packages (from azure-core<2.0.0,>=1.28.0->azure-search-documents==11.4.0) (1.16.0)\n",
      "Requirement already satisfied: typing-extensions>=4.6.0 in c:\\projects\\workshop2024\\.venv\\lib\\site-packages (from azure-core<2.0.0,>=1.28.0->azure-search-documents==11.4.0) (4.9.0)\n",
      "Requirement already satisfied: charset-normalizer<4,>=2 in c:\\projects\\workshop2024\\.venv\\lib\\site-packages (from requests>=2.21.0->azure-core<2.0.0,>=1.28.0->azure-search-documents==11.4.0) (3.3.2)\n",
      "Requirement already satisfied: idna<4,>=2.5 in c:\\projects\\workshop2024\\.venv\\lib\\site-packages (from requests>=2.21.0->azure-core<2.0.0,>=1.28.0->azure-search-documents==11.4.0) (3.6)\n",
      "Requirement already satisfied: urllib3<3,>=1.21.1 in c:\\projects\\workshop2024\\.venv\\lib\\site-packages (from requests>=2.21.0->azure-core<2.0.0,>=1.28.0->azure-search-documents==11.4.0) (2.1.0)\n",
      "Requirement already satisfied: certifi>=2017.4.17 in c:\\projects\\workshop2024\\.venv\\lib\\site-packages (from requests>=2.21.0->azure-core<2.0.0,>=1.28.0->azure-search-documents==11.4.0) (2023.11.17)\n",
      "Note: you may need to restart the kernel to use updated packages.\n"
     ]
    },
    {
     "name": "stderr",
     "output_type": "stream",
     "text": [
      "\n",
      "[notice] A new release of pip is available: 23.3.2 -> 24.0\n",
      "[notice] To update, run: python.exe -m pip install --upgrade pip\n",
      "\n",
      "[notice] A new release of pip is available: 23.3.2 -> 24.0\n",
      "[notice] To update, run: python.exe -m pip install --upgrade pip\n"
     ]
    },
    {
     "name": "stdout",
     "output_type": "stream",
     "text": [
      "Requirement already satisfied: openai==0.28.1 in c:\\projects\\workshop2024\\.venv\\lib\\site-packages (0.28.1)Note: you may need to restart the kernel to use updated packages.\n",
      "\n",
      "Requirement already satisfied: requests>=2.20 in c:\\projects\\workshop2024\\.venv\\lib\\site-packages (from openai==0.28.1) (2.31.0)\n",
      "Requirement already satisfied: tqdm in c:\\projects\\workshop2024\\.venv\\lib\\site-packages (from openai==0.28.1) (4.66.1)\n",
      "Requirement already satisfied: aiohttp in c:\\projects\\workshop2024\\.venv\\lib\\site-packages (from openai==0.28.1) (3.9.3)\n",
      "Requirement already satisfied: charset-normalizer<4,>=2 in c:\\projects\\workshop2024\\.venv\\lib\\site-packages (from requests>=2.20->openai==0.28.1) (3.3.2)\n",
      "Requirement already satisfied: idna<4,>=2.5 in c:\\projects\\workshop2024\\.venv\\lib\\site-packages (from requests>=2.20->openai==0.28.1) (3.6)\n",
      "Requirement already satisfied: urllib3<3,>=1.21.1 in c:\\projects\\workshop2024\\.venv\\lib\\site-packages (from requests>=2.20->openai==0.28.1) (2.1.0)\n",
      "Requirement already satisfied: certifi>=2017.4.17 in c:\\projects\\workshop2024\\.venv\\lib\\site-packages (from requests>=2.20->openai==0.28.1) (2023.11.17)\n",
      "Requirement already satisfied: aiosignal>=1.1.2 in c:\\projects\\workshop2024\\.venv\\lib\\site-packages (from aiohttp->openai==0.28.1) (1.3.1)\n",
      "Requirement already satisfied: attrs>=17.3.0 in c:\\projects\\workshop2024\\.venv\\lib\\site-packages (from aiohttp->openai==0.28.1) (23.2.0)\n",
      "Requirement already satisfied: frozenlist>=1.1.1 in c:\\projects\\workshop2024\\.venv\\lib\\site-packages (from aiohttp->openai==0.28.1) (1.4.1)\n",
      "Requirement already satisfied: multidict<7.0,>=4.5 in c:\\projects\\workshop2024\\.venv\\lib\\site-packages (from aiohttp->openai==0.28.1) (6.0.4)\n",
      "Requirement already satisfied: yarl<2.0,>=1.0 in c:\\projects\\workshop2024\\.venv\\lib\\site-packages (from aiohttp->openai==0.28.1) (1.9.4)\n",
      "Requirement already satisfied: colorama in c:\\projects\\workshop2024\\.venv\\lib\\site-packages (from tqdm->openai==0.28.1) (0.4.6)\n",
      "index_chunks_2 created or updated\n",
      "Requirement already satisfied: langchain-community==0.0.18 in c:\\projects\\workshop2024\\.venv\\lib\\site-packages (0.0.18)\n",
      "Requirement already satisfied: PyYAML>=5.3 in c:\\projects\\workshop2024\\.venv\\lib\\site-packages (from langchain-community==0.0.18) (6.0.1)\n",
      "Requirement already satisfied: SQLAlchemy<3,>=1.4 in c:\\projects\\workshop2024\\.venv\\lib\\site-packages (from langchain-community==0.0.18) (2.0.25)\n",
      "Requirement already satisfied: aiohttp<4.0.0,>=3.8.3 in c:\\projects\\workshop2024\\.venv\\lib\\site-packages (from langchain-community==0.0.18) (3.9.3)\n",
      "Requirement already satisfied: dataclasses-json<0.7,>=0.5.7 in c:\\projects\\workshop2024\\.venv\\lib\\site-packages (from langchain-community==0.0.18) (0.6.4)\n",
      "Requirement already satisfied: langchain-core<0.2,>=0.1.19 in c:\\projects\\workshop2024\\.venv\\lib\\site-packages (from langchain-community==0.0.18) (0.1.20)\n",
      "Requirement already satisfied: langsmith<0.1,>=0.0.83 in c:\\projects\\workshop2024\\.venv\\lib\\site-packages (from langchain-community==0.0.18) (0.0.87)\n",
      "Requirement already satisfied: numpy<2,>=1 in c:\\projects\\workshop2024\\.venv\\lib\\site-packages (from langchain-community==0.0.18) (1.26.3)\n",
      "Requirement already satisfied: requests<3,>=2 in c:\\projects\\workshop2024\\.venv\\lib\\site-packages (from langchain-community==0.0.18) (2.31.0)\n",
      "Requirement already satisfied: tenacity<9.0.0,>=8.1.0 in c:\\projects\\workshop2024\\.venv\\lib\\site-packages (from langchain-community==0.0.18) (8.2.3)\n",
      "Requirement already satisfied: aiosignal>=1.1.2 in c:\\projects\\workshop2024\\.venv\\lib\\site-packages (from aiohttp<4.0.0,>=3.8.3->langchain-community==0.0.18) (1.3.1)\n",
      "Requirement already satisfied: attrs>=17.3.0 in c:\\projects\\workshop2024\\.venv\\lib\\site-packages (from aiohttp<4.0.0,>=3.8.3->langchain-community==0.0.18) (23.2.0)\n",
      "Requirement already satisfied: frozenlist>=1.1.1 in c:\\projects\\workshop2024\\.venv\\lib\\site-packages (from aiohttp<4.0.0,>=3.8.3->langchain-community==0.0.18) (1.4.1)\n",
      "Requirement already satisfied: multidict<7.0,>=4.5 in c:\\projects\\workshop2024\\.venv\\lib\\site-packages (from aiohttp<4.0.0,>=3.8.3->langchain-community==0.0.18) (6.0.4)\n",
      "Requirement already satisfied: yarl<2.0,>=1.0 in c:\\projects\\workshop2024\\.venv\\lib\\site-packages (from aiohttp<4.0.0,>=3.8.3->langchain-community==0.0.18) (1.9.4)\n",
      "Requirement already satisfied: marshmallow<4.0.0,>=3.18.0 in c:\\projects\\workshop2024\\.venv\\lib\\site-packages (from dataclasses-json<0.7,>=0.5.7->langchain-community==0.0.18) (3.20.2)\n",
      "Requirement already satisfied: typing-inspect<1,>=0.4.0 in c:\\projects\\workshop2024\\.venv\\lib\\site-packages (from dataclasses-json<0.7,>=0.5.7->langchain-community==0.0.18) (0.9.0)\n",
      "Requirement already satisfied: anyio<5,>=3 in c:\\projects\\workshop2024\\.venv\\lib\\site-packages (from langchain-core<0.2,>=0.1.19->langchain-community==0.0.18) (4.2.0)\n",
      "Requirement already satisfied: jsonpatch<2.0,>=1.33 in c:\\projects\\workshop2024\\.venv\\lib\\site-packages (from langchain-core<0.2,>=0.1.19->langchain-community==0.0.18) (1.33)\n",
      "Requirement already satisfied: packaging<24.0,>=23.2 in c:\\projects\\workshop2024\\.venv\\lib\\site-packages (from langchain-core<0.2,>=0.1.19->langchain-community==0.0.18) (23.2)\n",
      "Requirement already satisfied: pydantic<3,>=1 in c:\\projects\\workshop2024\\.venv\\lib\\site-packages (from langchain-core<0.2,>=0.1.19->langchain-community==0.0.18) (2.5.3)\n",
      "Requirement already satisfied: charset-normalizer<4,>=2 in c:\\projects\\workshop2024\\.venv\\lib\\site-packages (from requests<3,>=2->langchain-community==0.0.18) (3.3.2)\n",
      "Requirement already satisfied: idna<4,>=2.5 in c:\\projects\\workshop2024\\.venv\\lib\\site-packages (from requests<3,>=2->langchain-community==0.0.18) (3.6)\n",
      "Requirement already satisfied: urllib3<3,>=1.21.1 in c:\\projects\\workshop2024\\.venv\\lib\\site-packages (from requests<3,>=2->langchain-community==0.0.18) (2.1.0)\n",
      "Requirement already satisfied: certifi>=2017.4.17 in c:\\projects\\workshop2024\\.venv\\lib\\site-packages (from requests<3,>=2->langchain-community==0.0.18) (2023.11.17)\n",
      "Requirement already satisfied: typing-extensions>=4.6.0 in c:\\projects\\workshop2024\\.venv\\lib\\site-packages (from SQLAlchemy<3,>=1.4->langchain-community==0.0.18) (4.9.0)\n",
      "Requirement already satisfied: greenlet!=0.4.17 in c:\\projects\\workshop2024\\.venv\\lib\\site-packages (from SQLAlchemy<3,>=1.4->langchain-community==0.0.18) (3.0.3)\n",
      "Requirement already satisfied: sniffio>=1.1 in c:\\projects\\workshop2024\\.venv\\lib\\site-packages (from anyio<5,>=3->langchain-core<0.2,>=0.1.19->langchain-community==0.0.18) (1.3.0)\n",
      "Requirement already satisfied: jsonpointer>=1.9 in c:\\projects\\workshop2024\\.venv\\lib\\site-packages (from jsonpatch<2.0,>=1.33->langchain-core<0.2,>=0.1.19->langchain-community==0.0.18) (2.4)\n",
      "Requirement already satisfied: annotated-types>=0.4.0 in c:\\projects\\workshop2024\\.venv\\lib\\site-packages (from pydantic<3,>=1->langchain-core<0.2,>=0.1.19->langchain-community==0.0.18) (0.6.0)\n",
      "Requirement already satisfied: pydantic-core==2.14.6 in c:\\projects\\workshop2024\\.venv\\lib\\site-packages (from pydantic<3,>=1->langchain-core<0.2,>=0.1.19->langchain-community==0.0.18) (2.14.6)\n",
      "Requirement already satisfied: mypy-extensions>=0.3.0 in c:\\projects\\workshop2024\\.venv\\lib\\site-packages (from typing-inspect<1,>=0.4.0->dataclasses-json<0.7,>=0.5.7->langchain-community==0.0.18) (1.0.0)\n",
      "Note: you may need to restart the kernel to use updated packages.\n"
     ]
    },
    {
     "name": "stderr",
     "output_type": "stream",
     "text": [
      "\n",
      "[notice] A new release of pip is available: 23.3.2 -> 24.0\n",
      "[notice] To update, run: python.exe -m pip install --upgrade pip\n"
     ]
    },
    {
     "name": "stdout",
     "output_type": "stream",
     "text": [
      "Requirement already satisfied: unstructured==0.12.3 in c:\\projects\\workshop2024\\.venv\\lib\\site-packages (0.12.3)\n",
      "Requirement already satisfied: chardet in c:\\projects\\workshop2024\\.venv\\lib\\site-packages (from unstructured==0.12.3) (5.2.0)\n",
      "Requirement already satisfied: filetype in c:\\projects\\workshop2024\\.venv\\lib\\site-packages (from unstructured==0.12.3) (1.2.0)\n",
      "Requirement already satisfied: python-magic in c:\\projects\\workshop2024\\.venv\\lib\\site-packages (from unstructured==0.12.3) (0.4.27)\n",
      "Requirement already satisfied: lxml in c:\\projects\\workshop2024\\.venv\\lib\\site-packages (from unstructured==0.12.3) (5.1.0)\n",
      "Requirement already satisfied: nltk in c:\\projects\\workshop2024\\.venv\\lib\\site-packages (from unstructured==0.12.3) (3.8.1)\n",
      "Requirement already satisfied: tabulate in c:\\projects\\workshop2024\\.venv\\lib\\site-packages (from unstructured==0.12.3) (0.9.0)\n",
      "Requirement already satisfied: requests in c:\\projects\\workshop2024\\.venv\\lib\\site-packages (from unstructured==0.12.3) (2.31.0)\n",
      "Requirement already satisfied: beautifulsoup4 in c:\\projects\\workshop2024\\.venv\\lib\\site-packages (from unstructured==0.12.3) (4.12.3)\n",
      "Requirement already satisfied: emoji in c:\\projects\\workshop2024\\.venv\\lib\\site-packages (from unstructured==0.12.3) (2.10.1)\n",
      "Requirement already satisfied: dataclasses-json in c:\\projects\\workshop2024\\.venv\\lib\\site-packages (from unstructured==0.12.3) (0.6.4)\n",
      "Requirement already satisfied: python-iso639 in c:\\projects\\workshop2024\\.venv\\lib\\site-packages (from unstructured==0.12.3) (2024.2.7)\n",
      "Requirement already satisfied: langdetect in c:\\projects\\workshop2024\\.venv\\lib\\site-packages (from unstructured==0.12.3) (1.0.9)\n",
      "Requirement already satisfied: numpy in c:\\projects\\workshop2024\\.venv\\lib\\site-packages (from unstructured==0.12.3) (1.26.3)\n",
      "Requirement already satisfied: rapidfuzz in c:\\projects\\workshop2024\\.venv\\lib\\site-packages (from unstructured==0.12.3) (3.6.1)\n",
      "Requirement already satisfied: backoff in c:\\projects\\workshop2024\\.venv\\lib\\site-packages (from unstructured==0.12.3) (2.2.1)\n",
      "Requirement already satisfied: typing-extensions in c:\\projects\\workshop2024\\.venv\\lib\\site-packages (from unstructured==0.12.3) (4.9.0)\n",
      "Requirement already satisfied: unstructured-client>=0.15.1 in c:\\projects\\workshop2024\\.venv\\lib\\site-packages (from unstructured==0.12.3) (0.17.0)\n",
      "Requirement already satisfied: wrapt in c:\\projects\\workshop2024\\.venv\\lib\\site-packages (from unstructured==0.12.3) (1.16.0)\n",
      "Requirement already satisfied: certifi>=2023.7.22 in c:\\projects\\workshop2024\\.venv\\lib\\site-packages (from unstructured-client>=0.15.1->unstructured==0.12.3) (2023.11.17)\n",
      "Requirement already satisfied: charset-normalizer>=3.2.0 in c:\\projects\\workshop2024\\.venv\\lib\\site-packages (from unstructured-client>=0.15.1->unstructured==0.12.3) (3.3.2)\n",
      "Requirement already satisfied: dataclasses-json-speakeasy>=0.5.11 in c:\\projects\\workshop2024\\.venv\\lib\\site-packages (from unstructured-client>=0.15.1->unstructured==0.12.3) (0.5.11)\n",
      "Requirement already satisfied: idna>=3.4 in c:\\projects\\workshop2024\\.venv\\lib\\site-packages (from unstructured-client>=0.15.1->unstructured==0.12.3) (3.6)\n",
      "Requirement already satisfied: jsonpath-python>=1.0.6 in c:\\projects\\workshop2024\\.venv\\lib\\site-packages (from unstructured-client>=0.15.1->unstructured==0.12.3) (1.0.6)\n",
      "Requirement already satisfied: marshmallow>=3.19.0 in c:\\projects\\workshop2024\\.venv\\lib\\site-packages (from unstructured-client>=0.15.1->unstructured==0.12.3) (3.20.2)\n",
      "Requirement already satisfied: mypy-extensions>=1.0.0 in c:\\projects\\workshop2024\\.venv\\lib\\site-packages (from unstructured-client>=0.15.1->unstructured==0.12.3) (1.0.0)\n",
      "Requirement already satisfied: packaging>=23.1 in c:\\projects\\workshop2024\\.venv\\lib\\site-packages (from unstructured-client>=0.15.1->unstructured==0.12.3) (23.2)\n",
      "Requirement already satisfied: python-dateutil>=2.8.2 in c:\\projects\\workshop2024\\.venv\\lib\\site-packages (from unstructured-client>=0.15.1->unstructured==0.12.3) (2.8.2)\n",
      "Requirement already satisfied: six>=1.16.0 in c:\\projects\\workshop2024\\.venv\\lib\\site-packages (from unstructured-client>=0.15.1->unstructured==0.12.3) (1.16.0)\n",
      "Requirement already satisfied: typing-inspect>=0.9.0 in c:\\projects\\workshop2024\\.venv\\lib\\site-packages (from unstructured-client>=0.15.1->unstructured==0.12.3) (0.9.0)\n",
      "Requirement already satisfied: urllib3>=1.26.18 in c:\\projects\\workshop2024\\.venv\\lib\\site-packages (from unstructured-client>=0.15.1->unstructured==0.12.3) (2.1.0)\n",
      "Requirement already satisfied: soupsieve>1.2 in c:\\projects\\workshop2024\\.venv\\lib\\site-packages (from beautifulsoup4->unstructured==0.12.3) (2.5)\n",
      "Requirement already satisfied: click in c:\\projects\\workshop2024\\.venv\\lib\\site-packages (from nltk->unstructured==0.12.3) (8.1.7)\n",
      "Requirement already satisfied: joblib in c:\\projects\\workshop2024\\.venv\\lib\\site-packages (from nltk->unstructured==0.12.3) (1.3.2)\n",
      "Requirement already satisfied: regex>=2021.8.3 in c:\\projects\\workshop2024\\.venv\\lib\\site-packages (from nltk->unstructured==0.12.3) (2023.12.25)\n",
      "Requirement already satisfied: tqdm in c:\\projects\\workshop2024\\.venv\\lib\\site-packages (from nltk->unstructured==0.12.3) (4.66.1)\n",
      "Requirement already satisfied: colorama in c:\\projects\\workshop2024\\.venv\\lib\\site-packages (from click->nltk->unstructured==0.12.3) (0.4.6)\n",
      "Note: you may need to restart the kernel to use updated packages.\n"
     ]
    },
    {
     "name": "stderr",
     "output_type": "stream",
     "text": [
      "\n",
      "[notice] A new release of pip is available: 23.3.2 -> 24.0\n",
      "[notice] To update, run: python.exe -m pip install --upgrade pip\n"
     ]
    },
    {
     "name": "stdout",
     "output_type": "stream",
     "text": [
      "Requirement already satisfied: unstructured-client==0.17.0 in c:\\projects\\workshop2024\\.venv\\lib\\site-packages (0.17.0)\n",
      "Requirement already satisfied: certifi>=2023.7.22 in c:\\projects\\workshop2024\\.venv\\lib\\site-packages (from unstructured-client==0.17.0) (2023.11.17)\n",
      "Requirement already satisfied: charset-normalizer>=3.2.0 in c:\\projects\\workshop2024\\.venv\\lib\\site-packages (from unstructured-client==0.17.0) (3.3.2)\n",
      "Requirement already satisfied: dataclasses-json-speakeasy>=0.5.11 in c:\\projects\\workshop2024\\.venv\\lib\\site-packages (from unstructured-client==0.17.0) (0.5.11)\n",
      "Requirement already satisfied: idna>=3.4 in c:\\projects\\workshop2024\\.venv\\lib\\site-packages (from unstructured-client==0.17.0) (3.6)\n",
      "Requirement already satisfied: jsonpath-python>=1.0.6 in c:\\projects\\workshop2024\\.venv\\lib\\site-packages (from unstructured-client==0.17.0) (1.0.6)\n",
      "Requirement already satisfied: marshmallow>=3.19.0 in c:\\projects\\workshop2024\\.venv\\lib\\site-packages (from unstructured-client==0.17.0) (3.20.2)\n",
      "Requirement already satisfied: mypy-extensions>=1.0.0 in c:\\projects\\workshop2024\\.venv\\lib\\site-packages (from unstructured-client==0.17.0) (1.0.0)\n",
      "Requirement already satisfied: packaging>=23.1 in c:\\projects\\workshop2024\\.venv\\lib\\site-packages (from unstructured-client==0.17.0) (23.2)\n",
      "Requirement already satisfied: python-dateutil>=2.8.2 in c:\\projects\\workshop2024\\.venv\\lib\\site-packages (from unstructured-client==0.17.0) (2.8.2)\n",
      "Requirement already satisfied: requests>=2.31.0 in c:\\projects\\workshop2024\\.venv\\lib\\site-packages (from unstructured-client==0.17.0) (2.31.0)\n",
      "Requirement already satisfied: six>=1.16.0 in c:\\projects\\workshop2024\\.venv\\lib\\site-packages (from unstructured-client==0.17.0) (1.16.0)\n",
      "Requirement already satisfied: typing-inspect>=0.9.0 in c:\\projects\\workshop2024\\.venv\\lib\\site-packages (from unstructured-client==0.17.0) (0.9.0)\n",
      "Requirement already satisfied: typing-extensions>=4.7.1 in c:\\projects\\workshop2024\\.venv\\lib\\site-packages (from unstructured-client==0.17.0) (4.9.0)\n",
      "Requirement already satisfied: urllib3>=1.26.18 in c:\\projects\\workshop2024\\.venv\\lib\\site-packages (from unstructured-client==0.17.0) (2.1.0)\n",
      "Note: you may need to restart the kernel to use updated packages.\n"
     ]
    },
    {
     "name": "stderr",
     "output_type": "stream",
     "text": [
      "\n",
      "[notice] A new release of pip is available: 23.3.2 -> 24.0\n",
      "[notice] To update, run: python.exe -m pip install --upgrade pip\n"
     ]
    },
    {
     "name": "stdout",
     "output_type": "stream",
     "text": [
      "Requirement already satisfied: langchain==0.1.5 in c:\\projects\\workshop2024\\.venv\\lib\\site-packages (0.1.5)\n",
      "Requirement already satisfied: PyYAML>=5.3 in c:\\projects\\workshop2024\\.venv\\lib\\site-packages (from langchain==0.1.5) (6.0.1)\n",
      "Requirement already satisfied: SQLAlchemy<3,>=1.4 in c:\\projects\\workshop2024\\.venv\\lib\\site-packages (from langchain==0.1.5) (2.0.25)\n",
      "Requirement already satisfied: aiohttp<4.0.0,>=3.8.3 in c:\\projects\\workshop2024\\.venv\\lib\\site-packages (from langchain==0.1.5) (3.9.3)\n",
      "Requirement already satisfied: dataclasses-json<0.7,>=0.5.7 in c:\\projects\\workshop2024\\.venv\\lib\\site-packages (from langchain==0.1.5) (0.6.4)\n",
      "Requirement already satisfied: jsonpatch<2.0,>=1.33 in c:\\projects\\workshop2024\\.venv\\lib\\site-packages (from langchain==0.1.5) (1.33)\n",
      "Requirement already satisfied: langchain-community<0.1,>=0.0.17 in c:\\projects\\workshop2024\\.venv\\lib\\site-packages (from langchain==0.1.5) (0.0.18)\n",
      "Requirement already satisfied: langchain-core<0.2,>=0.1.16 in c:\\projects\\workshop2024\\.venv\\lib\\site-packages (from langchain==0.1.5) (0.1.20)\n",
      "Requirement already satisfied: langsmith<0.1,>=0.0.83 in c:\\projects\\workshop2024\\.venv\\lib\\site-packages (from langchain==0.1.5) (0.0.87)\n",
      "Requirement already satisfied: numpy<2,>=1 in c:\\projects\\workshop2024\\.venv\\lib\\site-packages (from langchain==0.1.5) (1.26.3)\n",
      "Requirement already satisfied: pydantic<3,>=1 in c:\\projects\\workshop2024\\.venv\\lib\\site-packages (from langchain==0.1.5) (2.5.3)\n",
      "Requirement already satisfied: requests<3,>=2 in c:\\projects\\workshop2024\\.venv\\lib\\site-packages (from langchain==0.1.5) (2.31.0)\n",
      "Requirement already satisfied: tenacity<9.0.0,>=8.1.0 in c:\\projects\\workshop2024\\.venv\\lib\\site-packages (from langchain==0.1.5) (8.2.3)\n",
      "Requirement already satisfied: aiosignal>=1.1.2 in c:\\projects\\workshop2024\\.venv\\lib\\site-packages (from aiohttp<4.0.0,>=3.8.3->langchain==0.1.5) (1.3.1)\n",
      "Requirement already satisfied: attrs>=17.3.0 in c:\\projects\\workshop2024\\.venv\\lib\\site-packages (from aiohttp<4.0.0,>=3.8.3->langchain==0.1.5) (23.2.0)\n",
      "Requirement already satisfied: frozenlist>=1.1.1 in c:\\projects\\workshop2024\\.venv\\lib\\site-packages (from aiohttp<4.0.0,>=3.8.3->langchain==0.1.5) (1.4.1)\n",
      "Requirement already satisfied: multidict<7.0,>=4.5 in c:\\projects\\workshop2024\\.venv\\lib\\site-packages (from aiohttp<4.0.0,>=3.8.3->langchain==0.1.5) (6.0.4)\n",
      "Requirement already satisfied: yarl<2.0,>=1.0 in c:\\projects\\workshop2024\\.venv\\lib\\site-packages (from aiohttp<4.0.0,>=3.8.3->langchain==0.1.5) (1.9.4)\n",
      "Requirement already satisfied: marshmallow<4.0.0,>=3.18.0 in c:\\projects\\workshop2024\\.venv\\lib\\site-packages (from dataclasses-json<0.7,>=0.5.7->langchain==0.1.5) (3.20.2)\n",
      "Requirement already satisfied: typing-inspect<1,>=0.4.0 in c:\\projects\\workshop2024\\.venv\\lib\\site-packages (from dataclasses-json<0.7,>=0.5.7->langchain==0.1.5) (0.9.0)\n",
      "Requirement already satisfied: jsonpointer>=1.9 in c:\\projects\\workshop2024\\.venv\\lib\\site-packages (from jsonpatch<2.0,>=1.33->langchain==0.1.5) (2.4)\n",
      "Requirement already satisfied: anyio<5,>=3 in c:\\projects\\workshop2024\\.venv\\lib\\site-packages (from langchain-core<0.2,>=0.1.16->langchain==0.1.5) (4.2.0)\n",
      "Requirement already satisfied: packaging<24.0,>=23.2 in c:\\projects\\workshop2024\\.venv\\lib\\site-packages (from langchain-core<0.2,>=0.1.16->langchain==0.1.5) (23.2)\n",
      "Requirement already satisfied: annotated-types>=0.4.0 in c:\\projects\\workshop2024\\.venv\\lib\\site-packages (from pydantic<3,>=1->langchain==0.1.5) (0.6.0)\n",
      "Requirement already satisfied: pydantic-core==2.14.6 in c:\\projects\\workshop2024\\.venv\\lib\\site-packages (from pydantic<3,>=1->langchain==0.1.5) (2.14.6)\n",
      "Requirement already satisfied: typing-extensions>=4.6.1 in c:\\projects\\workshop2024\\.venv\\lib\\site-packages (from pydantic<3,>=1->langchain==0.1.5) (4.9.0)\n",
      "Requirement already satisfied: charset-normalizer<4,>=2 in c:\\projects\\workshop2024\\.venv\\lib\\site-packages (from requests<3,>=2->langchain==0.1.5) (3.3.2)\n",
      "Requirement already satisfied: idna<4,>=2.5 in c:\\projects\\workshop2024\\.venv\\lib\\site-packages (from requests<3,>=2->langchain==0.1.5) (3.6)\n",
      "Requirement already satisfied: urllib3<3,>=1.21.1 in c:\\projects\\workshop2024\\.venv\\lib\\site-packages (from requests<3,>=2->langchain==0.1.5) (2.1.0)\n",
      "Requirement already satisfied: certifi>=2017.4.17 in c:\\projects\\workshop2024\\.venv\\lib\\site-packages (from requests<3,>=2->langchain==0.1.5) (2023.11.17)\n",
      "Requirement already satisfied: greenlet!=0.4.17 in c:\\projects\\workshop2024\\.venv\\lib\\site-packages (from SQLAlchemy<3,>=1.4->langchain==0.1.5) (3.0.3)\n",
      "Requirement already satisfied: sniffio>=1.1 in c:\\projects\\workshop2024\\.venv\\lib\\site-packages (from anyio<5,>=3->langchain-core<0.2,>=0.1.16->langchain==0.1.5) (1.3.0)\n",
      "Requirement already satisfied: mypy-extensions>=0.3.0 in c:\\projects\\workshop2024\\.venv\\lib\\site-packages (from typing-inspect<1,>=0.4.0->dataclasses-json<0.7,>=0.5.7->langchain==0.1.5) (1.0.0)\n",
      "Note: you may need to restart the kernel to use updated packages.\n"
     ]
    },
    {
     "name": "stderr",
     "output_type": "stream",
     "text": [
      "\n",
      "[notice] A new release of pip is available: 23.3.2 -> 24.0\n",
      "[notice] To update, run: python.exe -m pip install --upgrade pip\n"
     ]
    },
    {
     "name": "stdout",
     "output_type": "stream",
     "text": [
      "Requirement already satisfied: unstructured[md] in c:\\projects\\workshop2024\\.venv\\lib\\site-packages (0.12.3)\n",
      "Requirement already satisfied: chardet in c:\\projects\\workshop2024\\.venv\\lib\\site-packages (from unstructured[md]) (5.2.0)\n",
      "Requirement already satisfied: filetype in c:\\projects\\workshop2024\\.venv\\lib\\site-packages (from unstructured[md]) (1.2.0)\n",
      "Requirement already satisfied: python-magic in c:\\projects\\workshop2024\\.venv\\lib\\site-packages (from unstructured[md]) (0.4.27)\n",
      "Requirement already satisfied: lxml in c:\\projects\\workshop2024\\.venv\\lib\\site-packages (from unstructured[md]) (5.1.0)\n",
      "Requirement already satisfied: nltk in c:\\projects\\workshop2024\\.venv\\lib\\site-packages (from unstructured[md]) (3.8.1)\n",
      "Requirement already satisfied: tabulate in c:\\projects\\workshop2024\\.venv\\lib\\site-packages (from unstructured[md]) (0.9.0)\n",
      "Requirement already satisfied: requests in c:\\projects\\workshop2024\\.venv\\lib\\site-packages (from unstructured[md]) (2.31.0)\n",
      "Requirement already satisfied: beautifulsoup4 in c:\\projects\\workshop2024\\.venv\\lib\\site-packages (from unstructured[md]) (4.12.3)\n",
      "Requirement already satisfied: emoji in c:\\projects\\workshop2024\\.venv\\lib\\site-packages (from unstructured[md]) (2.10.1)\n",
      "Requirement already satisfied: dataclasses-json in c:\\projects\\workshop2024\\.venv\\lib\\site-packages (from unstructured[md]) (0.6.4)\n",
      "Requirement already satisfied: python-iso639 in c:\\projects\\workshop2024\\.venv\\lib\\site-packages (from unstructured[md]) (2024.2.7)\n",
      "Requirement already satisfied: langdetect in c:\\projects\\workshop2024\\.venv\\lib\\site-packages (from unstructured[md]) (1.0.9)\n",
      "Requirement already satisfied: numpy in c:\\projects\\workshop2024\\.venv\\lib\\site-packages (from unstructured[md]) (1.26.3)\n",
      "Requirement already satisfied: rapidfuzz in c:\\projects\\workshop2024\\.venv\\lib\\site-packages (from unstructured[md]) (3.6.1)\n",
      "Requirement already satisfied: backoff in c:\\projects\\workshop2024\\.venv\\lib\\site-packages (from unstructured[md]) (2.2.1)\n",
      "Requirement already satisfied: typing-extensions in c:\\projects\\workshop2024\\.venv\\lib\\site-packages (from unstructured[md]) (4.9.0)\n",
      "Requirement already satisfied: unstructured-client>=0.15.1 in c:\\projects\\workshop2024\\.venv\\lib\\site-packages (from unstructured[md]) (0.17.0)\n",
      "Requirement already satisfied: wrapt in c:\\projects\\workshop2024\\.venv\\lib\\site-packages (from unstructured[md]) (1.16.0)\n",
      "Requirement already satisfied: markdown in c:\\projects\\workshop2024\\.venv\\lib\\site-packages (from unstructured[md]) (3.5.2)\n",
      "Requirement already satisfied: certifi>=2023.7.22 in c:\\projects\\workshop2024\\.venv\\lib\\site-packages (from unstructured-client>=0.15.1->unstructured[md]) (2023.11.17)\n",
      "Requirement already satisfied: charset-normalizer>=3.2.0 in c:\\projects\\workshop2024\\.venv\\lib\\site-packages (from unstructured-client>=0.15.1->unstructured[md]) (3.3.2)\n",
      "Requirement already satisfied: dataclasses-json-speakeasy>=0.5.11 in c:\\projects\\workshop2024\\.venv\\lib\\site-packages (from unstructured-client>=0.15.1->unstructured[md]) (0.5.11)\n",
      "Requirement already satisfied: idna>=3.4 in c:\\projects\\workshop2024\\.venv\\lib\\site-packages (from unstructured-client>=0.15.1->unstructured[md]) (3.6)\n",
      "Requirement already satisfied: jsonpath-python>=1.0.6 in c:\\projects\\workshop2024\\.venv\\lib\\site-packages (from unstructured-client>=0.15.1->unstructured[md]) (1.0.6)\n",
      "Requirement already satisfied: marshmallow>=3.19.0 in c:\\projects\\workshop2024\\.venv\\lib\\site-packages (from unstructured-client>=0.15.1->unstructured[md]) (3.20.2)\n",
      "Requirement already satisfied: mypy-extensions>=1.0.0 in c:\\projects\\workshop2024\\.venv\\lib\\site-packages (from unstructured-client>=0.15.1->unstructured[md]) (1.0.0)\n",
      "Requirement already satisfied: packaging>=23.1 in c:\\projects\\workshop2024\\.venv\\lib\\site-packages (from unstructured-client>=0.15.1->unstructured[md]) (23.2)\n",
      "Requirement already satisfied: python-dateutil>=2.8.2 in c:\\projects\\workshop2024\\.venv\\lib\\site-packages (from unstructured-client>=0.15.1->unstructured[md]) (2.8.2)\n",
      "Requirement already satisfied: six>=1.16.0 in c:\\projects\\workshop2024\\.venv\\lib\\site-packages (from unstructured-client>=0.15.1->unstructured[md]) (1.16.0)\n",
      "Requirement already satisfied: typing-inspect>=0.9.0 in c:\\projects\\workshop2024\\.venv\\lib\\site-packages (from unstructured-client>=0.15.1->unstructured[md]) (0.9.0)\n",
      "Requirement already satisfied: urllib3>=1.26.18 in c:\\projects\\workshop2024\\.venv\\lib\\site-packages (from unstructured-client>=0.15.1->unstructured[md]) (2.1.0)\n",
      "Requirement already satisfied: soupsieve>1.2 in c:\\projects\\workshop2024\\.venv\\lib\\site-packages (from beautifulsoup4->unstructured[md]) (2.5)\n",
      "Requirement already satisfied: click in c:\\projects\\workshop2024\\.venv\\lib\\site-packages (from nltk->unstructured[md]) (8.1.7)\n",
      "Requirement already satisfied: joblib in c:\\projects\\workshop2024\\.venv\\lib\\site-packages (from nltk->unstructured[md]) (1.3.2)\n",
      "Requirement already satisfied: regex>=2021.8.3 in c:\\projects\\workshop2024\\.venv\\lib\\site-packages (from nltk->unstructured[md]) (2023.12.25)\n",
      "Requirement already satisfied: tqdm in c:\\projects\\workshop2024\\.venv\\lib\\site-packages (from nltk->unstructured[md]) (4.66.1)\n",
      "Requirement already satisfied: colorama in c:\\projects\\workshop2024\\.venv\\lib\\site-packages (from click->nltk->unstructured[md]) (0.4.6)\n",
      "Note: you may need to restart the kernel to use updated packages.\n"
     ]
    },
    {
     "name": "stderr",
     "output_type": "stream",
     "text": [
      "\n",
      "[notice] A new release of pip is available: 23.3.2 -> 24.0\n",
      "[notice] To update, run: python.exe -m pip install --upgrade pip\n"
     ]
    },
    {
     "name": "stdout",
     "output_type": "stream",
     "text": [
      "Loading documents...\n"
     ]
    },
    {
     "name": "stderr",
     "output_type": "stream",
     "text": [
      " 12%|█▏        | 93/777 [00:14<01:43,  6.59it/s] \n"
     ]
    },
    {
     "ename": "KeyboardInterrupt",
     "evalue": "",
     "output_type": "error",
     "traceback": [
      "\u001b[1;31m---------------------------------------------------------------------------\u001b[0m",
      "\u001b[1;31mKeyboardInterrupt\u001b[0m                         Traceback (most recent call last)",
      "File \u001b[1;32m~\\AppData\\Local\\Temp\\ipykernel_28804\\541026597.py:1\u001b[0m\n\u001b[1;32m----> 1\u001b[0m markdown_documents \u001b[38;5;241m=\u001b[39m \u001b[43mload_documents_from_folder\u001b[49m\u001b[43m(\u001b[49m\u001b[38;5;124;43m\"\u001b[39;49m\u001b[38;5;124;43m..\u001b[39;49m\u001b[38;5;124;43m\\\u001b[39;49m\u001b[38;5;124;43mdata\u001b[39;49m\u001b[38;5;124;43m\\\u001b[39;49m\u001b[38;5;124;43mdocs\u001b[39;49m\u001b[38;5;124;43m\\\u001b[39;49m\u001b[38;5;124;43m**\u001b[39;49m\u001b[38;5;124;43m\\\u001b[39;49m\u001b[38;5;124;43m*.md\u001b[39;49m\u001b[38;5;124;43m\"\u001b[39;49m\u001b[43m)\u001b[49m\n\u001b[0;32m      2\u001b[0m \u001b[38;5;66;03m# TODO: Move this to a Storage Account?\u001b[39;00m\n",
      "File \u001b[1;32m~\\AppData\\Local\\Temp\\ipykernel_28804\\994663413.py:7\u001b[0m, in \u001b[0;36mload_documents_from_folder\u001b[1;34m(path)\u001b[0m\n\u001b[0;32m      5\u001b[0m \u001b[38;5;28;01mfor\u001b[39;00m file \u001b[38;5;129;01min\u001b[39;00m tqdm\u001b[38;5;241m.\u001b[39mtqdm(glob\u001b[38;5;241m.\u001b[39mglob(path, recursive\u001b[38;5;241m=\u001b[39m\u001b[38;5;28;01mTrue\u001b[39;00m)):\n\u001b[0;32m      6\u001b[0m     loader \u001b[38;5;241m=\u001b[39m UnstructuredFileLoader(file)\n\u001b[1;32m----> 7\u001b[0m     document \u001b[38;5;241m=\u001b[39m \u001b[43mloader\u001b[49m\u001b[38;5;241;43m.\u001b[39;49m\u001b[43mload\u001b[49m\u001b[43m(\u001b[49m\u001b[43m)\u001b[49m\n\u001b[0;32m      8\u001b[0m     markdown_documents\u001b[38;5;241m.\u001b[39mappend(document)\n\u001b[0;32m      9\u001b[0m     \u001b[38;5;28;01mif\u001b[39;00m i \u001b[38;5;241m==\u001b[39m \u001b[38;5;241m200\u001b[39m:\n",
      "File \u001b[1;32mc:\\Projects\\Workshop2024\\.venv\\Lib\\site-packages\\langchain_community\\document_loaders\\unstructured.py:87\u001b[0m, in \u001b[0;36mUnstructuredBaseLoader.load\u001b[1;34m(self)\u001b[0m\n\u001b[0;32m     85\u001b[0m \u001b[38;5;28;01mdef\u001b[39;00m \u001b[38;5;21mload\u001b[39m(\u001b[38;5;28mself\u001b[39m) \u001b[38;5;241m-\u001b[39m\u001b[38;5;241m>\u001b[39m List[Document]:\n\u001b[0;32m     86\u001b[0m \u001b[38;5;250m    \u001b[39m\u001b[38;5;124;03m\"\"\"Load file.\"\"\"\u001b[39;00m\n\u001b[1;32m---> 87\u001b[0m     elements \u001b[38;5;241m=\u001b[39m \u001b[38;5;28;43mself\u001b[39;49m\u001b[38;5;241;43m.\u001b[39;49m\u001b[43m_get_elements\u001b[49m\u001b[43m(\u001b[49m\u001b[43m)\u001b[49m\n\u001b[0;32m     88\u001b[0m     \u001b[38;5;28mself\u001b[39m\u001b[38;5;241m.\u001b[39m_post_process_elements(elements)\n\u001b[0;32m     89\u001b[0m     \u001b[38;5;28;01mif\u001b[39;00m \u001b[38;5;28mself\u001b[39m\u001b[38;5;241m.\u001b[39mmode \u001b[38;5;241m==\u001b[39m \u001b[38;5;124m\"\u001b[39m\u001b[38;5;124melements\u001b[39m\u001b[38;5;124m\"\u001b[39m:\n",
      "File \u001b[1;32mc:\\Projects\\Workshop2024\\.venv\\Lib\\site-packages\\langchain_community\\document_loaders\\unstructured.py:179\u001b[0m, in \u001b[0;36mUnstructuredFileLoader._get_elements\u001b[1;34m(self)\u001b[0m\n\u001b[0;32m    177\u001b[0m     \u001b[38;5;28;01mreturn\u001b[39;00m elements\n\u001b[0;32m    178\u001b[0m \u001b[38;5;28;01melse\u001b[39;00m:\n\u001b[1;32m--> 179\u001b[0m     \u001b[38;5;28;01mreturn\u001b[39;00m \u001b[43mpartition\u001b[49m\u001b[43m(\u001b[49m\u001b[43mfilename\u001b[49m\u001b[38;5;241;43m=\u001b[39;49m\u001b[38;5;28;43mself\u001b[39;49m\u001b[38;5;241;43m.\u001b[39;49m\u001b[43mfile_path\u001b[49m\u001b[43m,\u001b[49m\u001b[43m \u001b[49m\u001b[38;5;241;43m*\u001b[39;49m\u001b[38;5;241;43m*\u001b[39;49m\u001b[38;5;28;43mself\u001b[39;49m\u001b[38;5;241;43m.\u001b[39;49m\u001b[43munstructured_kwargs\u001b[49m\u001b[43m)\u001b[49m\n",
      "File \u001b[1;32mc:\\Projects\\Workshop2024\\.venv\\Lib\\site-packages\\unstructured\\partition\\auto.py:406\u001b[0m, in \u001b[0;36mpartition\u001b[1;34m(filename, content_type, file, file_filename, url, include_page_breaks, strategy, encoding, paragraph_grouper, headers, skip_infer_table_types, ssl_verify, ocr_languages, languages, detect_language_per_element, pdf_infer_table_structure, extract_images_in_pdf, extract_image_block_types, extract_image_block_output_dir, extract_image_block_to_payload, xml_keep_tags, data_source_metadata, metadata_filename, request_timeout, hi_res_model_name, model_name, **kwargs)\u001b[0m\n\u001b[0;32m    404\u001b[0m \u001b[38;5;28;01melif\u001b[39;00m filetype \u001b[38;5;241m==\u001b[39m FileType\u001b[38;5;241m.\u001b[39mMD:\n\u001b[0;32m    405\u001b[0m     _partition_md \u001b[38;5;241m=\u001b[39m _get_partition_with_extras(\u001b[38;5;124m\"\u001b[39m\u001b[38;5;124mmd\u001b[39m\u001b[38;5;124m\"\u001b[39m)\n\u001b[1;32m--> 406\u001b[0m     elements \u001b[38;5;241m=\u001b[39m \u001b[43m_partition_md\u001b[49m\u001b[43m(\u001b[49m\n\u001b[0;32m    407\u001b[0m \u001b[43m        \u001b[49m\u001b[43mfilename\u001b[49m\u001b[38;5;241;43m=\u001b[39;49m\u001b[43mfilename\u001b[49m\u001b[43m,\u001b[49m\n\u001b[0;32m    408\u001b[0m \u001b[43m        \u001b[49m\u001b[43mfile\u001b[49m\u001b[38;5;241;43m=\u001b[39;49m\u001b[43mfile\u001b[49m\u001b[43m,\u001b[49m\n\u001b[0;32m    409\u001b[0m \u001b[43m        \u001b[49m\u001b[43minclude_page_breaks\u001b[49m\u001b[38;5;241;43m=\u001b[39;49m\u001b[43minclude_page_breaks\u001b[49m\u001b[43m,\u001b[49m\n\u001b[0;32m    410\u001b[0m \u001b[43m        \u001b[49m\u001b[43minfer_table_structure\u001b[49m\u001b[38;5;241;43m=\u001b[39;49m\u001b[43minfer_table_structure\u001b[49m\u001b[43m,\u001b[49m\n\u001b[0;32m    411\u001b[0m \u001b[43m        \u001b[49m\u001b[43mlanguages\u001b[49m\u001b[38;5;241;43m=\u001b[39;49m\u001b[43mlanguages\u001b[49m\u001b[43m,\u001b[49m\n\u001b[0;32m    412\u001b[0m \u001b[43m        \u001b[49m\u001b[43mdetect_language_per_element\u001b[49m\u001b[38;5;241;43m=\u001b[39;49m\u001b[43mdetect_language_per_element\u001b[49m\u001b[43m,\u001b[49m\n\u001b[0;32m    413\u001b[0m \u001b[43m        \u001b[49m\u001b[38;5;241;43m*\u001b[39;49m\u001b[38;5;241;43m*\u001b[39;49m\u001b[43mkwargs\u001b[49m\u001b[43m,\u001b[49m\n\u001b[0;32m    414\u001b[0m \u001b[43m    \u001b[49m\u001b[43m)\u001b[49m\n\u001b[0;32m    415\u001b[0m \u001b[38;5;28;01melif\u001b[39;00m filetype \u001b[38;5;241m==\u001b[39m FileType\u001b[38;5;241m.\u001b[39mPDF:\n\u001b[0;32m    416\u001b[0m     _partition_pdf \u001b[38;5;241m=\u001b[39m _get_partition_with_extras(\u001b[38;5;124m\"\u001b[39m\u001b[38;5;124mpdf\u001b[39m\u001b[38;5;124m\"\u001b[39m)\n",
      "File \u001b[1;32mc:\\Projects\\Workshop2024\\.venv\\Lib\\site-packages\\unstructured\\documents\\elements.py:518\u001b[0m, in \u001b[0;36mprocess_metadata.<locals>.decorator.<locals>.wrapper\u001b[1;34m(*args, **kwargs)\u001b[0m\n\u001b[0;32m    516\u001b[0m \u001b[38;5;129m@functools\u001b[39m\u001b[38;5;241m.\u001b[39mwraps(func)\n\u001b[0;32m    517\u001b[0m \u001b[38;5;28;01mdef\u001b[39;00m \u001b[38;5;21mwrapper\u001b[39m(\u001b[38;5;241m*\u001b[39margs: _P\u001b[38;5;241m.\u001b[39margs, \u001b[38;5;241m*\u001b[39m\u001b[38;5;241m*\u001b[39mkwargs: _P\u001b[38;5;241m.\u001b[39mkwargs) \u001b[38;5;241m-\u001b[39m\u001b[38;5;241m>\u001b[39m List[Element]:\n\u001b[1;32m--> 518\u001b[0m     elements \u001b[38;5;241m=\u001b[39m \u001b[43mfunc\u001b[49m\u001b[43m(\u001b[49m\u001b[38;5;241;43m*\u001b[39;49m\u001b[43margs\u001b[49m\u001b[43m,\u001b[49m\u001b[43m \u001b[49m\u001b[38;5;241;43m*\u001b[39;49m\u001b[38;5;241;43m*\u001b[39;49m\u001b[43mkwargs\u001b[49m\u001b[43m)\u001b[49m\n\u001b[0;32m    519\u001b[0m     sig \u001b[38;5;241m=\u001b[39m inspect\u001b[38;5;241m.\u001b[39msignature(func)\n\u001b[0;32m    520\u001b[0m     params: Dict[\u001b[38;5;28mstr\u001b[39m, Any] \u001b[38;5;241m=\u001b[39m \u001b[38;5;28mdict\u001b[39m(\u001b[38;5;241m*\u001b[39m\u001b[38;5;241m*\u001b[39m\u001b[38;5;28mdict\u001b[39m(\u001b[38;5;28mzip\u001b[39m(sig\u001b[38;5;241m.\u001b[39mparameters, args)), \u001b[38;5;241m*\u001b[39m\u001b[38;5;241m*\u001b[39mkwargs)\n",
      "File \u001b[1;32mc:\\Projects\\Workshop2024\\.venv\\Lib\\site-packages\\unstructured\\file_utils\\filetype.py:613\u001b[0m, in \u001b[0;36madd_filetype.<locals>.decorator.<locals>.wrapper\u001b[1;34m(*args, **kwargs)\u001b[0m\n\u001b[0;32m    611\u001b[0m \u001b[38;5;129m@functools\u001b[39m\u001b[38;5;241m.\u001b[39mwraps(func)\n\u001b[0;32m    612\u001b[0m \u001b[38;5;28;01mdef\u001b[39;00m \u001b[38;5;21mwrapper\u001b[39m(\u001b[38;5;241m*\u001b[39margs: _P\u001b[38;5;241m.\u001b[39margs, \u001b[38;5;241m*\u001b[39m\u001b[38;5;241m*\u001b[39mkwargs: _P\u001b[38;5;241m.\u001b[39mkwargs) \u001b[38;5;241m-\u001b[39m\u001b[38;5;241m>\u001b[39m List[Element]:\n\u001b[1;32m--> 613\u001b[0m     elements \u001b[38;5;241m=\u001b[39m \u001b[43mfunc\u001b[49m\u001b[43m(\u001b[49m\u001b[38;5;241;43m*\u001b[39;49m\u001b[43margs\u001b[49m\u001b[43m,\u001b[49m\u001b[43m \u001b[49m\u001b[38;5;241;43m*\u001b[39;49m\u001b[38;5;241;43m*\u001b[39;49m\u001b[43mkwargs\u001b[49m\u001b[43m)\u001b[49m\n\u001b[0;32m    614\u001b[0m     sig \u001b[38;5;241m=\u001b[39m inspect\u001b[38;5;241m.\u001b[39msignature(func)\n\u001b[0;32m    615\u001b[0m     params: Dict[\u001b[38;5;28mstr\u001b[39m, Any] \u001b[38;5;241m=\u001b[39m \u001b[38;5;28mdict\u001b[39m(\u001b[38;5;241m*\u001b[39m\u001b[38;5;241m*\u001b[39m\u001b[38;5;28mdict\u001b[39m(\u001b[38;5;28mzip\u001b[39m(sig\u001b[38;5;241m.\u001b[39mparameters, args)), \u001b[38;5;241m*\u001b[39m\u001b[38;5;241m*\u001b[39mkwargs)\n",
      "File \u001b[1;32mc:\\Projects\\Workshop2024\\.venv\\Lib\\site-packages\\unstructured\\file_utils\\filetype.py:568\u001b[0m, in \u001b[0;36madd_metadata.<locals>.wrapper\u001b[1;34m(*args, **kwargs)\u001b[0m\n\u001b[0;32m    566\u001b[0m \u001b[38;5;129m@functools\u001b[39m\u001b[38;5;241m.\u001b[39mwraps(func)\n\u001b[0;32m    567\u001b[0m \u001b[38;5;28;01mdef\u001b[39;00m \u001b[38;5;21mwrapper\u001b[39m(\u001b[38;5;241m*\u001b[39margs: _P\u001b[38;5;241m.\u001b[39margs, \u001b[38;5;241m*\u001b[39m\u001b[38;5;241m*\u001b[39mkwargs: _P\u001b[38;5;241m.\u001b[39mkwargs) \u001b[38;5;241m-\u001b[39m\u001b[38;5;241m>\u001b[39m List[Element]:\n\u001b[1;32m--> 568\u001b[0m     elements \u001b[38;5;241m=\u001b[39m \u001b[43mfunc\u001b[49m\u001b[43m(\u001b[49m\u001b[38;5;241;43m*\u001b[39;49m\u001b[43margs\u001b[49m\u001b[43m,\u001b[49m\u001b[43m \u001b[49m\u001b[38;5;241;43m*\u001b[39;49m\u001b[38;5;241;43m*\u001b[39;49m\u001b[43mkwargs\u001b[49m\u001b[43m)\u001b[49m\n\u001b[0;32m    569\u001b[0m     sig \u001b[38;5;241m=\u001b[39m inspect\u001b[38;5;241m.\u001b[39msignature(func)\n\u001b[0;32m    570\u001b[0m     params: Dict[\u001b[38;5;28mstr\u001b[39m, Any] \u001b[38;5;241m=\u001b[39m \u001b[38;5;28mdict\u001b[39m(\u001b[38;5;241m*\u001b[39m\u001b[38;5;241m*\u001b[39m\u001b[38;5;28mdict\u001b[39m(\u001b[38;5;28mzip\u001b[39m(sig\u001b[38;5;241m.\u001b[39mparameters, args)), \u001b[38;5;241m*\u001b[39m\u001b[38;5;241m*\u001b[39mkwargs)\n",
      "File \u001b[1;32mc:\\Projects\\Workshop2024\\.venv\\Lib\\site-packages\\unstructured\\chunking\\__init__.py:69\u001b[0m, in \u001b[0;36madd_chunking_strategy.<locals>.decorator.<locals>.wrapper\u001b[1;34m(*args, **kwargs)\u001b[0m\n\u001b[0;32m     66\u001b[0m     \u001b[38;5;28;01mreturn\u001b[39;00m call_args\n\u001b[0;32m     68\u001b[0m \u001b[38;5;66;03m# -- call the partitioning function to get the elements --\u001b[39;00m\n\u001b[1;32m---> 69\u001b[0m elements \u001b[38;5;241m=\u001b[39m \u001b[43mfunc\u001b[49m\u001b[43m(\u001b[49m\u001b[38;5;241;43m*\u001b[39;49m\u001b[43margs\u001b[49m\u001b[43m,\u001b[49m\u001b[43m \u001b[49m\u001b[38;5;241;43m*\u001b[39;49m\u001b[38;5;241;43m*\u001b[39;49m\u001b[43mkwargs\u001b[49m\u001b[43m)\u001b[49m\n\u001b[0;32m     71\u001b[0m \u001b[38;5;66;03m# -- look for a chunking-strategy argument and run the indicated chunker when present --\u001b[39;00m\n\u001b[0;32m     72\u001b[0m call_args \u001b[38;5;241m=\u001b[39m get_call_args_applying_defaults()\n",
      "File \u001b[1;32mc:\\Projects\\Workshop2024\\.venv\\Lib\\site-packages\\unstructured\\partition\\md.py:104\u001b[0m, in \u001b[0;36mpartition_md\u001b[1;34m(filename, file, text, url, include_page_breaks, include_metadata, parser, metadata_filename, metadata_last_modified, chunking_strategy, languages, detect_language_per_element, **kwargs)\u001b[0m\n\u001b[0;32m    100\u001b[0m     text \u001b[38;5;241m=\u001b[39m response\u001b[38;5;241m.\u001b[39mtext\n\u001b[0;32m    102\u001b[0m html \u001b[38;5;241m=\u001b[39m markdown\u001b[38;5;241m.\u001b[39mmarkdown(text, extensions\u001b[38;5;241m=\u001b[39m[\u001b[38;5;124m\"\u001b[39m\u001b[38;5;124mtables\u001b[39m\u001b[38;5;124m\"\u001b[39m])\n\u001b[1;32m--> 104\u001b[0m \u001b[38;5;28;01mreturn\u001b[39;00m \u001b[43mpartition_html\u001b[49m\u001b[43m(\u001b[49m\n\u001b[0;32m    105\u001b[0m \u001b[43m    \u001b[49m\u001b[43mtext\u001b[49m\u001b[38;5;241;43m=\u001b[39;49m\u001b[43mhtml\u001b[49m\u001b[43m,\u001b[49m\n\u001b[0;32m    106\u001b[0m \u001b[43m    \u001b[49m\u001b[43minclude_page_breaks\u001b[49m\u001b[38;5;241;43m=\u001b[39;49m\u001b[43minclude_page_breaks\u001b[49m\u001b[43m,\u001b[49m\n\u001b[0;32m    107\u001b[0m \u001b[43m    \u001b[49m\u001b[43minclude_metadata\u001b[49m\u001b[38;5;241;43m=\u001b[39;49m\u001b[43minclude_metadata\u001b[49m\u001b[43m,\u001b[49m\n\u001b[0;32m    108\u001b[0m \u001b[43m    \u001b[49m\u001b[43mparser\u001b[49m\u001b[38;5;241;43m=\u001b[39;49m\u001b[43mparser\u001b[49m\u001b[43m,\u001b[49m\n\u001b[0;32m    109\u001b[0m \u001b[43m    \u001b[49m\u001b[43msource_format\u001b[49m\u001b[38;5;241;43m=\u001b[39;49m\u001b[38;5;124;43m\"\u001b[39;49m\u001b[38;5;124;43mmd\u001b[39;49m\u001b[38;5;124;43m\"\u001b[39;49m\u001b[43m,\u001b[49m\n\u001b[0;32m    110\u001b[0m \u001b[43m    \u001b[49m\u001b[43mmetadata_filename\u001b[49m\u001b[38;5;241;43m=\u001b[39;49m\u001b[43mmetadata_filename\u001b[49m\u001b[43m,\u001b[49m\n\u001b[0;32m    111\u001b[0m \u001b[43m    \u001b[49m\u001b[43mmetadata_last_modified\u001b[49m\u001b[38;5;241;43m=\u001b[39;49m\u001b[43mmetadata_last_modified\u001b[49m\u001b[43m \u001b[49m\u001b[38;5;129;43;01mor\u001b[39;49;00m\u001b[43m \u001b[49m\u001b[43mlast_modification_date\u001b[49m\u001b[43m,\u001b[49m\n\u001b[0;32m    112\u001b[0m \u001b[43m    \u001b[49m\u001b[43mlanguages\u001b[49m\u001b[38;5;241;43m=\u001b[39;49m\u001b[43mlanguages\u001b[49m\u001b[43m,\u001b[49m\n\u001b[0;32m    113\u001b[0m \u001b[43m    \u001b[49m\u001b[43mdetect_language_per_element\u001b[49m\u001b[38;5;241;43m=\u001b[39;49m\u001b[43mdetect_language_per_element\u001b[49m\u001b[43m,\u001b[49m\n\u001b[0;32m    114\u001b[0m \u001b[43m    \u001b[49m\u001b[43mdetection_origin\u001b[49m\u001b[38;5;241;43m=\u001b[39;49m\u001b[43mDETECTION_ORIGIN\u001b[49m\u001b[43m,\u001b[49m\n\u001b[0;32m    115\u001b[0m \u001b[43m\u001b[49m\u001b[43m)\u001b[49m\n",
      "File \u001b[1;32mc:\\Projects\\Workshop2024\\.venv\\Lib\\site-packages\\unstructured\\documents\\elements.py:518\u001b[0m, in \u001b[0;36mprocess_metadata.<locals>.decorator.<locals>.wrapper\u001b[1;34m(*args, **kwargs)\u001b[0m\n\u001b[0;32m    516\u001b[0m \u001b[38;5;129m@functools\u001b[39m\u001b[38;5;241m.\u001b[39mwraps(func)\n\u001b[0;32m    517\u001b[0m \u001b[38;5;28;01mdef\u001b[39;00m \u001b[38;5;21mwrapper\u001b[39m(\u001b[38;5;241m*\u001b[39margs: _P\u001b[38;5;241m.\u001b[39margs, \u001b[38;5;241m*\u001b[39m\u001b[38;5;241m*\u001b[39mkwargs: _P\u001b[38;5;241m.\u001b[39mkwargs) \u001b[38;5;241m-\u001b[39m\u001b[38;5;241m>\u001b[39m List[Element]:\n\u001b[1;32m--> 518\u001b[0m     elements \u001b[38;5;241m=\u001b[39m \u001b[43mfunc\u001b[49m\u001b[43m(\u001b[49m\u001b[38;5;241;43m*\u001b[39;49m\u001b[43margs\u001b[49m\u001b[43m,\u001b[49m\u001b[43m \u001b[49m\u001b[38;5;241;43m*\u001b[39;49m\u001b[38;5;241;43m*\u001b[39;49m\u001b[43mkwargs\u001b[49m\u001b[43m)\u001b[49m\n\u001b[0;32m    519\u001b[0m     sig \u001b[38;5;241m=\u001b[39m inspect\u001b[38;5;241m.\u001b[39msignature(func)\n\u001b[0;32m    520\u001b[0m     params: Dict[\u001b[38;5;28mstr\u001b[39m, Any] \u001b[38;5;241m=\u001b[39m \u001b[38;5;28mdict\u001b[39m(\u001b[38;5;241m*\u001b[39m\u001b[38;5;241m*\u001b[39m\u001b[38;5;28mdict\u001b[39m(\u001b[38;5;28mzip\u001b[39m(sig\u001b[38;5;241m.\u001b[39mparameters, args)), \u001b[38;5;241m*\u001b[39m\u001b[38;5;241m*\u001b[39mkwargs)\n",
      "File \u001b[1;32mc:\\Projects\\Workshop2024\\.venv\\Lib\\site-packages\\unstructured\\file_utils\\filetype.py:613\u001b[0m, in \u001b[0;36madd_filetype.<locals>.decorator.<locals>.wrapper\u001b[1;34m(*args, **kwargs)\u001b[0m\n\u001b[0;32m    611\u001b[0m \u001b[38;5;129m@functools\u001b[39m\u001b[38;5;241m.\u001b[39mwraps(func)\n\u001b[0;32m    612\u001b[0m \u001b[38;5;28;01mdef\u001b[39;00m \u001b[38;5;21mwrapper\u001b[39m(\u001b[38;5;241m*\u001b[39margs: _P\u001b[38;5;241m.\u001b[39margs, \u001b[38;5;241m*\u001b[39m\u001b[38;5;241m*\u001b[39mkwargs: _P\u001b[38;5;241m.\u001b[39mkwargs) \u001b[38;5;241m-\u001b[39m\u001b[38;5;241m>\u001b[39m List[Element]:\n\u001b[1;32m--> 613\u001b[0m     elements \u001b[38;5;241m=\u001b[39m \u001b[43mfunc\u001b[49m\u001b[43m(\u001b[49m\u001b[38;5;241;43m*\u001b[39;49m\u001b[43margs\u001b[49m\u001b[43m,\u001b[49m\u001b[43m \u001b[49m\u001b[38;5;241;43m*\u001b[39;49m\u001b[38;5;241;43m*\u001b[39;49m\u001b[43mkwargs\u001b[49m\u001b[43m)\u001b[49m\n\u001b[0;32m    614\u001b[0m     sig \u001b[38;5;241m=\u001b[39m inspect\u001b[38;5;241m.\u001b[39msignature(func)\n\u001b[0;32m    615\u001b[0m     params: Dict[\u001b[38;5;28mstr\u001b[39m, Any] \u001b[38;5;241m=\u001b[39m \u001b[38;5;28mdict\u001b[39m(\u001b[38;5;241m*\u001b[39m\u001b[38;5;241m*\u001b[39m\u001b[38;5;28mdict\u001b[39m(\u001b[38;5;28mzip\u001b[39m(sig\u001b[38;5;241m.\u001b[39mparameters, args)), \u001b[38;5;241m*\u001b[39m\u001b[38;5;241m*\u001b[39mkwargs)\n",
      "File \u001b[1;32mc:\\Projects\\Workshop2024\\.venv\\Lib\\site-packages\\unstructured\\file_utils\\filetype.py:585\u001b[0m, in \u001b[0;36madd_metadata.<locals>.wrapper\u001b[1;34m(*args, **kwargs)\u001b[0m\n\u001b[0;32m    582\u001b[0m \u001b[38;5;66;03m# NOTE (yao): do not use cast here as cast(None) still is None\u001b[39;00m\n\u001b[0;32m    583\u001b[0m \u001b[38;5;28;01mif\u001b[39;00m \u001b[38;5;129;01mnot\u001b[39;00m \u001b[38;5;28mstr\u001b[39m(kwargs\u001b[38;5;241m.\u001b[39mget(\u001b[38;5;124m\"\u001b[39m\u001b[38;5;124mmodel_name\u001b[39m\u001b[38;5;124m\"\u001b[39m, \u001b[38;5;124m\"\u001b[39m\u001b[38;5;124m\"\u001b[39m))\u001b[38;5;241m.\u001b[39mstartswith(\u001b[38;5;124m\"\u001b[39m\u001b[38;5;124mchipper\u001b[39m\u001b[38;5;124m\"\u001b[39m):\n\u001b[0;32m    584\u001b[0m     \u001b[38;5;66;03m# NOTE(alan): Skip hierarchy if using chipper, as it should take care of that\u001b[39;00m\n\u001b[1;32m--> 585\u001b[0m     elements \u001b[38;5;241m=\u001b[39m \u001b[43mset_element_hierarchy\u001b[49m\u001b[43m(\u001b[49m\u001b[43melements\u001b[49m\u001b[43m)\u001b[49m\n\u001b[0;32m    587\u001b[0m \u001b[38;5;28;01mfor\u001b[39;00m element \u001b[38;5;129;01min\u001b[39;00m elements:\n\u001b[0;32m    588\u001b[0m     \u001b[38;5;66;03m# NOTE(robinson) - Attached files have already run through this logic\u001b[39;00m\n\u001b[0;32m    589\u001b[0m     \u001b[38;5;66;03m# in their own partitioning function\u001b[39;00m\n\u001b[0;32m    590\u001b[0m     \u001b[38;5;28;01mif\u001b[39;00m element\u001b[38;5;241m.\u001b[39mmetadata\u001b[38;5;241m.\u001b[39mattached_to_filename \u001b[38;5;129;01mis\u001b[39;00m \u001b[38;5;28;01mNone\u001b[39;00m:\n",
      "File \u001b[1;32mc:\\Projects\\Workshop2024\\.venv\\Lib\\site-packages\\unstructured\\partition\\common.py:242\u001b[0m, in \u001b[0;36mset_element_hierarchy\u001b[1;34m(elements, ruleset)\u001b[0m\n\u001b[0;32m    240\u001b[0m parent_id \u001b[38;5;241m=\u001b[39m \u001b[38;5;28;01mNone\u001b[39;00m\n\u001b[0;32m    241\u001b[0m element_category \u001b[38;5;241m=\u001b[39m \u001b[38;5;28mgetattr\u001b[39m(element, \u001b[38;5;124m\"\u001b[39m\u001b[38;5;124mcategory\u001b[39m\u001b[38;5;124m\"\u001b[39m, \u001b[38;5;28;01mNone\u001b[39;00m)\n\u001b[1;32m--> 242\u001b[0m element_category_depth \u001b[38;5;241m=\u001b[39m \u001b[38;5;28mgetattr\u001b[39m(element\u001b[38;5;241m.\u001b[39mmetadata, \u001b[38;5;124m\"\u001b[39m\u001b[38;5;124mcategory_depth\u001b[39m\u001b[38;5;124m\"\u001b[39m, \u001b[38;5;241m0\u001b[39m) \u001b[38;5;129;01mor\u001b[39;00m \u001b[38;5;241m0\u001b[39m\n\u001b[0;32m    244\u001b[0m \u001b[38;5;28;01mif\u001b[39;00m \u001b[38;5;129;01mnot\u001b[39;00m element_category:\n\u001b[0;32m    245\u001b[0m     \u001b[38;5;28;01mcontinue\u001b[39;00m\n",
      "File \u001b[1;32mc:\\Projects\\Workshop2024\\.venv\\Lib\\site-packages\\unstructured\\documents\\elements.py:290\u001b[0m, in \u001b[0;36mElementMetadata.__getattr__\u001b[1;34m(self, attr_name)\u001b[0m\n\u001b[0;32m    287\u001b[0m         \u001b[38;5;28;01mreturn\u001b[39;00m \u001b[38;5;28;01mFalse\u001b[39;00m\n\u001b[0;32m    288\u001b[0m     \u001b[38;5;28;01mreturn\u001b[39;00m \u001b[38;5;28mself\u001b[39m\u001b[38;5;241m.\u001b[39mfields \u001b[38;5;241m==\u001b[39m other\u001b[38;5;241m.\u001b[39mfields\n\u001b[1;32m--> 290\u001b[0m \u001b[38;5;28;01mdef\u001b[39;00m \u001b[38;5;21m__getattr__\u001b[39m(\u001b[38;5;28mself\u001b[39m, attr_name: \u001b[38;5;28mstr\u001b[39m) \u001b[38;5;241m-\u001b[39m\u001b[38;5;241m>\u001b[39m \u001b[38;5;28;01mNone\u001b[39;00m:\n\u001b[0;32m    291\u001b[0m \u001b[38;5;250m    \u001b[39m\u001b[38;5;124;03m\"\"\"Only called when attribute doesn't exist.\"\"\"\u001b[39;00m\n\u001b[0;32m    292\u001b[0m     \u001b[38;5;28;01mif\u001b[39;00m attr_name \u001b[38;5;129;01min\u001b[39;00m \u001b[38;5;28mself\u001b[39m\u001b[38;5;241m.\u001b[39m_known_field_names:\n",
      "\u001b[1;31mKeyboardInterrupt\u001b[0m: "
     ]
    },
    {
     "ename": "KeyboardInterrupt",
     "evalue": "",
     "output_type": "error",
     "traceback": [
      "\u001b[1;31m---------------------------------------------------------------------------\u001b[0m",
      "\u001b[1;31mKeyboardInterrupt\u001b[0m                         Traceback (most recent call last)",
      "Cell \u001b[1;32mIn[2], line 1\u001b[0m\n\u001b[1;32m----> 1\u001b[0m \u001b[43mget_ipython\u001b[49m\u001b[43m(\u001b[49m\u001b[43m)\u001b[49m\u001b[38;5;241;43m.\u001b[39;49m\u001b[43mrun_line_magic\u001b[49m\u001b[43m(\u001b[49m\u001b[38;5;124;43m'\u001b[39;49m\u001b[38;5;124;43mrun\u001b[39;49m\u001b[38;5;124;43m'\u001b[39;49m\u001b[43m,\u001b[49m\u001b[43m \u001b[49m\u001b[38;5;124;43m'\u001b[39;49m\u001b[38;5;124;43m2.rag-implementation-2.ipynb\u001b[39;49m\u001b[38;5;124;43m'\u001b[39;49m\u001b[43m)\u001b[49m\n",
      "File \u001b[1;32mc:\\Projects\\Workshop2024\\.venv\\Lib\\site-packages\\IPython\\core\\interactiveshell.py:2456\u001b[0m, in \u001b[0;36mInteractiveShell.run_line_magic\u001b[1;34m(self, magic_name, line, _stack_depth)\u001b[0m\n\u001b[0;32m   2454\u001b[0m     kwargs[\u001b[38;5;124m'\u001b[39m\u001b[38;5;124mlocal_ns\u001b[39m\u001b[38;5;124m'\u001b[39m] \u001b[38;5;241m=\u001b[39m \u001b[38;5;28mself\u001b[39m\u001b[38;5;241m.\u001b[39mget_local_scope(stack_depth)\n\u001b[0;32m   2455\u001b[0m \u001b[38;5;28;01mwith\u001b[39;00m \u001b[38;5;28mself\u001b[39m\u001b[38;5;241m.\u001b[39mbuiltin_trap:\n\u001b[1;32m-> 2456\u001b[0m     result \u001b[38;5;241m=\u001b[39m \u001b[43mfn\u001b[49m\u001b[43m(\u001b[49m\u001b[38;5;241;43m*\u001b[39;49m\u001b[43margs\u001b[49m\u001b[43m,\u001b[49m\u001b[43m \u001b[49m\u001b[38;5;241;43m*\u001b[39;49m\u001b[38;5;241;43m*\u001b[39;49m\u001b[43mkwargs\u001b[49m\u001b[43m)\u001b[49m\n\u001b[0;32m   2458\u001b[0m \u001b[38;5;66;03m# The code below prevents the output from being displayed\u001b[39;00m\n\u001b[0;32m   2459\u001b[0m \u001b[38;5;66;03m# when using magics with decorator @output_can_be_silenced\u001b[39;00m\n\u001b[0;32m   2460\u001b[0m \u001b[38;5;66;03m# when the last Python token in the expression is a ';'.\u001b[39;00m\n\u001b[0;32m   2461\u001b[0m \u001b[38;5;28;01mif\u001b[39;00m \u001b[38;5;28mgetattr\u001b[39m(fn, magic\u001b[38;5;241m.\u001b[39mMAGIC_OUTPUT_CAN_BE_SILENCED, \u001b[38;5;28;01mFalse\u001b[39;00m):\n",
      "File \u001b[1;32mc:\\Projects\\Workshop2024\\.venv\\Lib\\site-packages\\IPython\\core\\magics\\execution.py:737\u001b[0m, in \u001b[0;36mExecutionMagics.run\u001b[1;34m(self, parameter_s, runner, file_finder)\u001b[0m\n\u001b[0;32m    735\u001b[0m     \u001b[38;5;28;01mwith\u001b[39;00m preserve_keys(\u001b[38;5;28mself\u001b[39m\u001b[38;5;241m.\u001b[39mshell\u001b[38;5;241m.\u001b[39muser_ns, \u001b[38;5;124m'\u001b[39m\u001b[38;5;124m__file__\u001b[39m\u001b[38;5;124m'\u001b[39m):\n\u001b[0;32m    736\u001b[0m         \u001b[38;5;28mself\u001b[39m\u001b[38;5;241m.\u001b[39mshell\u001b[38;5;241m.\u001b[39muser_ns[\u001b[38;5;124m'\u001b[39m\u001b[38;5;124m__file__\u001b[39m\u001b[38;5;124m'\u001b[39m] \u001b[38;5;241m=\u001b[39m filename\n\u001b[1;32m--> 737\u001b[0m         \u001b[38;5;28;43mself\u001b[39;49m\u001b[38;5;241;43m.\u001b[39;49m\u001b[43mshell\u001b[49m\u001b[38;5;241;43m.\u001b[39;49m\u001b[43msafe_execfile_ipy\u001b[49m\u001b[43m(\u001b[49m\u001b[43mfilename\u001b[49m\u001b[43m,\u001b[49m\u001b[43m \u001b[49m\u001b[43mraise_exceptions\u001b[49m\u001b[38;5;241;43m=\u001b[39;49m\u001b[38;5;28;43;01mTrue\u001b[39;49;00m\u001b[43m)\u001b[49m\n\u001b[0;32m    738\u001b[0m     \u001b[38;5;28;01mreturn\u001b[39;00m\n\u001b[0;32m    740\u001b[0m \u001b[38;5;66;03m# Control the response to exit() calls made by the script being run\u001b[39;00m\n",
      "File \u001b[1;32mc:\\Projects\\Workshop2024\\.venv\\Lib\\site-packages\\IPython\\core\\interactiveshell.py:2981\u001b[0m, in \u001b[0;36mInteractiveShell.safe_execfile_ipy\u001b[1;34m(self, fname, shell_futures, raise_exceptions)\u001b[0m\n\u001b[0;32m   2979\u001b[0m result \u001b[38;5;241m=\u001b[39m \u001b[38;5;28mself\u001b[39m\u001b[38;5;241m.\u001b[39mrun_cell(cell, silent\u001b[38;5;241m=\u001b[39m\u001b[38;5;28;01mTrue\u001b[39;00m, shell_futures\u001b[38;5;241m=\u001b[39mshell_futures)\n\u001b[0;32m   2980\u001b[0m \u001b[38;5;28;01mif\u001b[39;00m raise_exceptions:\n\u001b[1;32m-> 2981\u001b[0m     \u001b[43mresult\u001b[49m\u001b[38;5;241;43m.\u001b[39;49m\u001b[43mraise_error\u001b[49m\u001b[43m(\u001b[49m\u001b[43m)\u001b[49m\n\u001b[0;32m   2982\u001b[0m \u001b[38;5;28;01melif\u001b[39;00m \u001b[38;5;129;01mnot\u001b[39;00m result\u001b[38;5;241m.\u001b[39msuccess:\n\u001b[0;32m   2983\u001b[0m     \u001b[38;5;28;01mbreak\u001b[39;00m\n",
      "File \u001b[1;32mc:\\Projects\\Workshop2024\\.venv\\Lib\\site-packages\\IPython\\core\\interactiveshell.py:294\u001b[0m, in \u001b[0;36mExecutionResult.raise_error\u001b[1;34m(self)\u001b[0m\n\u001b[0;32m    292\u001b[0m     \u001b[38;5;28;01mraise\u001b[39;00m \u001b[38;5;28mself\u001b[39m\u001b[38;5;241m.\u001b[39merror_before_exec\n\u001b[0;32m    293\u001b[0m \u001b[38;5;28;01mif\u001b[39;00m \u001b[38;5;28mself\u001b[39m\u001b[38;5;241m.\u001b[39merror_in_exec \u001b[38;5;129;01mis\u001b[39;00m \u001b[38;5;129;01mnot\u001b[39;00m \u001b[38;5;28;01mNone\u001b[39;00m:\n\u001b[1;32m--> 294\u001b[0m     \u001b[38;5;28;01mraise\u001b[39;00m \u001b[38;5;28mself\u001b[39m\u001b[38;5;241m.\u001b[39merror_in_exec\n",
      "    \u001b[1;31m[... skipping hidden 1 frame]\u001b[0m\n",
      "File \u001b[1;32m~\\AppData\\Local\\Temp\\ipykernel_28804\\541026597.py:1\u001b[0m\n\u001b[1;32m----> 1\u001b[0m markdown_documents \u001b[38;5;241m=\u001b[39m \u001b[43mload_documents_from_folder\u001b[49m\u001b[43m(\u001b[49m\u001b[38;5;124;43m\"\u001b[39;49m\u001b[38;5;124;43m..\u001b[39;49m\u001b[38;5;124;43m\\\u001b[39;49m\u001b[38;5;124;43mdata\u001b[39;49m\u001b[38;5;124;43m\\\u001b[39;49m\u001b[38;5;124;43mdocs\u001b[39;49m\u001b[38;5;124;43m\\\u001b[39;49m\u001b[38;5;124;43m**\u001b[39;49m\u001b[38;5;124;43m\\\u001b[39;49m\u001b[38;5;124;43m*.md\u001b[39;49m\u001b[38;5;124;43m\"\u001b[39;49m\u001b[43m)\u001b[49m\n\u001b[0;32m      2\u001b[0m \u001b[38;5;66;03m# TODO: Move this to a Storage Account?\u001b[39;00m\n",
      "File \u001b[1;32m~\\AppData\\Local\\Temp\\ipykernel_28804\\994663413.py:7\u001b[0m, in \u001b[0;36mload_documents_from_folder\u001b[1;34m(path)\u001b[0m\n\u001b[0;32m      5\u001b[0m \u001b[38;5;28;01mfor\u001b[39;00m file \u001b[38;5;129;01min\u001b[39;00m tqdm\u001b[38;5;241m.\u001b[39mtqdm(glob\u001b[38;5;241m.\u001b[39mglob(path, recursive\u001b[38;5;241m=\u001b[39m\u001b[38;5;28;01mTrue\u001b[39;00m)):\n\u001b[0;32m      6\u001b[0m     loader \u001b[38;5;241m=\u001b[39m UnstructuredFileLoader(file)\n\u001b[1;32m----> 7\u001b[0m     document \u001b[38;5;241m=\u001b[39m \u001b[43mloader\u001b[49m\u001b[38;5;241;43m.\u001b[39;49m\u001b[43mload\u001b[49m\u001b[43m(\u001b[49m\u001b[43m)\u001b[49m\n\u001b[0;32m      8\u001b[0m     markdown_documents\u001b[38;5;241m.\u001b[39mappend(document)\n\u001b[0;32m      9\u001b[0m     \u001b[38;5;28;01mif\u001b[39;00m i \u001b[38;5;241m==\u001b[39m \u001b[38;5;241m200\u001b[39m:\n",
      "File \u001b[1;32mc:\\Projects\\Workshop2024\\.venv\\Lib\\site-packages\\langchain_community\\document_loaders\\unstructured.py:87\u001b[0m, in \u001b[0;36mUnstructuredBaseLoader.load\u001b[1;34m(self)\u001b[0m\n\u001b[0;32m     85\u001b[0m \u001b[38;5;28;01mdef\u001b[39;00m \u001b[38;5;21mload\u001b[39m(\u001b[38;5;28mself\u001b[39m) \u001b[38;5;241m-\u001b[39m\u001b[38;5;241m>\u001b[39m List[Document]:\n\u001b[0;32m     86\u001b[0m \u001b[38;5;250m    \u001b[39m\u001b[38;5;124;03m\"\"\"Load file.\"\"\"\u001b[39;00m\n\u001b[1;32m---> 87\u001b[0m     elements \u001b[38;5;241m=\u001b[39m \u001b[38;5;28;43mself\u001b[39;49m\u001b[38;5;241;43m.\u001b[39;49m\u001b[43m_get_elements\u001b[49m\u001b[43m(\u001b[49m\u001b[43m)\u001b[49m\n\u001b[0;32m     88\u001b[0m     \u001b[38;5;28mself\u001b[39m\u001b[38;5;241m.\u001b[39m_post_process_elements(elements)\n\u001b[0;32m     89\u001b[0m     \u001b[38;5;28;01mif\u001b[39;00m \u001b[38;5;28mself\u001b[39m\u001b[38;5;241m.\u001b[39mmode \u001b[38;5;241m==\u001b[39m \u001b[38;5;124m\"\u001b[39m\u001b[38;5;124melements\u001b[39m\u001b[38;5;124m\"\u001b[39m:\n",
      "File \u001b[1;32mc:\\Projects\\Workshop2024\\.venv\\Lib\\site-packages\\langchain_community\\document_loaders\\unstructured.py:179\u001b[0m, in \u001b[0;36mUnstructuredFileLoader._get_elements\u001b[1;34m(self)\u001b[0m\n\u001b[0;32m    177\u001b[0m     \u001b[38;5;28;01mreturn\u001b[39;00m elements\n\u001b[0;32m    178\u001b[0m \u001b[38;5;28;01melse\u001b[39;00m:\n\u001b[1;32m--> 179\u001b[0m     \u001b[38;5;28;01mreturn\u001b[39;00m \u001b[43mpartition\u001b[49m\u001b[43m(\u001b[49m\u001b[43mfilename\u001b[49m\u001b[38;5;241;43m=\u001b[39;49m\u001b[38;5;28;43mself\u001b[39;49m\u001b[38;5;241;43m.\u001b[39;49m\u001b[43mfile_path\u001b[49m\u001b[43m,\u001b[49m\u001b[43m \u001b[49m\u001b[38;5;241;43m*\u001b[39;49m\u001b[38;5;241;43m*\u001b[39;49m\u001b[38;5;28;43mself\u001b[39;49m\u001b[38;5;241;43m.\u001b[39;49m\u001b[43munstructured_kwargs\u001b[49m\u001b[43m)\u001b[49m\n",
      "File \u001b[1;32mc:\\Projects\\Workshop2024\\.venv\\Lib\\site-packages\\unstructured\\partition\\auto.py:406\u001b[0m, in \u001b[0;36mpartition\u001b[1;34m(filename, content_type, file, file_filename, url, include_page_breaks, strategy, encoding, paragraph_grouper, headers, skip_infer_table_types, ssl_verify, ocr_languages, languages, detect_language_per_element, pdf_infer_table_structure, extract_images_in_pdf, extract_image_block_types, extract_image_block_output_dir, extract_image_block_to_payload, xml_keep_tags, data_source_metadata, metadata_filename, request_timeout, hi_res_model_name, model_name, **kwargs)\u001b[0m\n\u001b[0;32m    404\u001b[0m \u001b[38;5;28;01melif\u001b[39;00m filetype \u001b[38;5;241m==\u001b[39m FileType\u001b[38;5;241m.\u001b[39mMD:\n\u001b[0;32m    405\u001b[0m     _partition_md \u001b[38;5;241m=\u001b[39m _get_partition_with_extras(\u001b[38;5;124m\"\u001b[39m\u001b[38;5;124mmd\u001b[39m\u001b[38;5;124m\"\u001b[39m)\n\u001b[1;32m--> 406\u001b[0m     elements \u001b[38;5;241m=\u001b[39m \u001b[43m_partition_md\u001b[49m\u001b[43m(\u001b[49m\n\u001b[0;32m    407\u001b[0m \u001b[43m        \u001b[49m\u001b[43mfilename\u001b[49m\u001b[38;5;241;43m=\u001b[39;49m\u001b[43mfilename\u001b[49m\u001b[43m,\u001b[49m\n\u001b[0;32m    408\u001b[0m \u001b[43m        \u001b[49m\u001b[43mfile\u001b[49m\u001b[38;5;241;43m=\u001b[39;49m\u001b[43mfile\u001b[49m\u001b[43m,\u001b[49m\n\u001b[0;32m    409\u001b[0m \u001b[43m        \u001b[49m\u001b[43minclude_page_breaks\u001b[49m\u001b[38;5;241;43m=\u001b[39;49m\u001b[43minclude_page_breaks\u001b[49m\u001b[43m,\u001b[49m\n\u001b[0;32m    410\u001b[0m \u001b[43m        \u001b[49m\u001b[43minfer_table_structure\u001b[49m\u001b[38;5;241;43m=\u001b[39;49m\u001b[43minfer_table_structure\u001b[49m\u001b[43m,\u001b[49m\n\u001b[0;32m    411\u001b[0m \u001b[43m        \u001b[49m\u001b[43mlanguages\u001b[49m\u001b[38;5;241;43m=\u001b[39;49m\u001b[43mlanguages\u001b[49m\u001b[43m,\u001b[49m\n\u001b[0;32m    412\u001b[0m \u001b[43m        \u001b[49m\u001b[43mdetect_language_per_element\u001b[49m\u001b[38;5;241;43m=\u001b[39;49m\u001b[43mdetect_language_per_element\u001b[49m\u001b[43m,\u001b[49m\n\u001b[0;32m    413\u001b[0m \u001b[43m        \u001b[49m\u001b[38;5;241;43m*\u001b[39;49m\u001b[38;5;241;43m*\u001b[39;49m\u001b[43mkwargs\u001b[49m\u001b[43m,\u001b[49m\n\u001b[0;32m    414\u001b[0m \u001b[43m    \u001b[49m\u001b[43m)\u001b[49m\n\u001b[0;32m    415\u001b[0m \u001b[38;5;28;01melif\u001b[39;00m filetype \u001b[38;5;241m==\u001b[39m FileType\u001b[38;5;241m.\u001b[39mPDF:\n\u001b[0;32m    416\u001b[0m     _partition_pdf \u001b[38;5;241m=\u001b[39m _get_partition_with_extras(\u001b[38;5;124m\"\u001b[39m\u001b[38;5;124mpdf\u001b[39m\u001b[38;5;124m\"\u001b[39m)\n",
      "File \u001b[1;32mc:\\Projects\\Workshop2024\\.venv\\Lib\\site-packages\\unstructured\\documents\\elements.py:518\u001b[0m, in \u001b[0;36mprocess_metadata.<locals>.decorator.<locals>.wrapper\u001b[1;34m(*args, **kwargs)\u001b[0m\n\u001b[0;32m    516\u001b[0m \u001b[38;5;129m@functools\u001b[39m\u001b[38;5;241m.\u001b[39mwraps(func)\n\u001b[0;32m    517\u001b[0m \u001b[38;5;28;01mdef\u001b[39;00m \u001b[38;5;21mwrapper\u001b[39m(\u001b[38;5;241m*\u001b[39margs: _P\u001b[38;5;241m.\u001b[39margs, \u001b[38;5;241m*\u001b[39m\u001b[38;5;241m*\u001b[39mkwargs: _P\u001b[38;5;241m.\u001b[39mkwargs) \u001b[38;5;241m-\u001b[39m\u001b[38;5;241m>\u001b[39m List[Element]:\n\u001b[1;32m--> 518\u001b[0m     elements \u001b[38;5;241m=\u001b[39m \u001b[43mfunc\u001b[49m\u001b[43m(\u001b[49m\u001b[38;5;241;43m*\u001b[39;49m\u001b[43margs\u001b[49m\u001b[43m,\u001b[49m\u001b[43m \u001b[49m\u001b[38;5;241;43m*\u001b[39;49m\u001b[38;5;241;43m*\u001b[39;49m\u001b[43mkwargs\u001b[49m\u001b[43m)\u001b[49m\n\u001b[0;32m    519\u001b[0m     sig \u001b[38;5;241m=\u001b[39m inspect\u001b[38;5;241m.\u001b[39msignature(func)\n\u001b[0;32m    520\u001b[0m     params: Dict[\u001b[38;5;28mstr\u001b[39m, Any] \u001b[38;5;241m=\u001b[39m \u001b[38;5;28mdict\u001b[39m(\u001b[38;5;241m*\u001b[39m\u001b[38;5;241m*\u001b[39m\u001b[38;5;28mdict\u001b[39m(\u001b[38;5;28mzip\u001b[39m(sig\u001b[38;5;241m.\u001b[39mparameters, args)), \u001b[38;5;241m*\u001b[39m\u001b[38;5;241m*\u001b[39mkwargs)\n",
      "File \u001b[1;32mc:\\Projects\\Workshop2024\\.venv\\Lib\\site-packages\\unstructured\\file_utils\\filetype.py:613\u001b[0m, in \u001b[0;36madd_filetype.<locals>.decorator.<locals>.wrapper\u001b[1;34m(*args, **kwargs)\u001b[0m\n\u001b[0;32m    611\u001b[0m \u001b[38;5;129m@functools\u001b[39m\u001b[38;5;241m.\u001b[39mwraps(func)\n\u001b[0;32m    612\u001b[0m \u001b[38;5;28;01mdef\u001b[39;00m \u001b[38;5;21mwrapper\u001b[39m(\u001b[38;5;241m*\u001b[39margs: _P\u001b[38;5;241m.\u001b[39margs, \u001b[38;5;241m*\u001b[39m\u001b[38;5;241m*\u001b[39mkwargs: _P\u001b[38;5;241m.\u001b[39mkwargs) \u001b[38;5;241m-\u001b[39m\u001b[38;5;241m>\u001b[39m List[Element]:\n\u001b[1;32m--> 613\u001b[0m     elements \u001b[38;5;241m=\u001b[39m \u001b[43mfunc\u001b[49m\u001b[43m(\u001b[49m\u001b[38;5;241;43m*\u001b[39;49m\u001b[43margs\u001b[49m\u001b[43m,\u001b[49m\u001b[43m \u001b[49m\u001b[38;5;241;43m*\u001b[39;49m\u001b[38;5;241;43m*\u001b[39;49m\u001b[43mkwargs\u001b[49m\u001b[43m)\u001b[49m\n\u001b[0;32m    614\u001b[0m     sig \u001b[38;5;241m=\u001b[39m inspect\u001b[38;5;241m.\u001b[39msignature(func)\n\u001b[0;32m    615\u001b[0m     params: Dict[\u001b[38;5;28mstr\u001b[39m, Any] \u001b[38;5;241m=\u001b[39m \u001b[38;5;28mdict\u001b[39m(\u001b[38;5;241m*\u001b[39m\u001b[38;5;241m*\u001b[39m\u001b[38;5;28mdict\u001b[39m(\u001b[38;5;28mzip\u001b[39m(sig\u001b[38;5;241m.\u001b[39mparameters, args)), \u001b[38;5;241m*\u001b[39m\u001b[38;5;241m*\u001b[39mkwargs)\n",
      "File \u001b[1;32mc:\\Projects\\Workshop2024\\.venv\\Lib\\site-packages\\unstructured\\file_utils\\filetype.py:568\u001b[0m, in \u001b[0;36madd_metadata.<locals>.wrapper\u001b[1;34m(*args, **kwargs)\u001b[0m\n\u001b[0;32m    566\u001b[0m \u001b[38;5;129m@functools\u001b[39m\u001b[38;5;241m.\u001b[39mwraps(func)\n\u001b[0;32m    567\u001b[0m \u001b[38;5;28;01mdef\u001b[39;00m \u001b[38;5;21mwrapper\u001b[39m(\u001b[38;5;241m*\u001b[39margs: _P\u001b[38;5;241m.\u001b[39margs, \u001b[38;5;241m*\u001b[39m\u001b[38;5;241m*\u001b[39mkwargs: _P\u001b[38;5;241m.\u001b[39mkwargs) \u001b[38;5;241m-\u001b[39m\u001b[38;5;241m>\u001b[39m List[Element]:\n\u001b[1;32m--> 568\u001b[0m     elements \u001b[38;5;241m=\u001b[39m \u001b[43mfunc\u001b[49m\u001b[43m(\u001b[49m\u001b[38;5;241;43m*\u001b[39;49m\u001b[43margs\u001b[49m\u001b[43m,\u001b[49m\u001b[43m \u001b[49m\u001b[38;5;241;43m*\u001b[39;49m\u001b[38;5;241;43m*\u001b[39;49m\u001b[43mkwargs\u001b[49m\u001b[43m)\u001b[49m\n\u001b[0;32m    569\u001b[0m     sig \u001b[38;5;241m=\u001b[39m inspect\u001b[38;5;241m.\u001b[39msignature(func)\n\u001b[0;32m    570\u001b[0m     params: Dict[\u001b[38;5;28mstr\u001b[39m, Any] \u001b[38;5;241m=\u001b[39m \u001b[38;5;28mdict\u001b[39m(\u001b[38;5;241m*\u001b[39m\u001b[38;5;241m*\u001b[39m\u001b[38;5;28mdict\u001b[39m(\u001b[38;5;28mzip\u001b[39m(sig\u001b[38;5;241m.\u001b[39mparameters, args)), \u001b[38;5;241m*\u001b[39m\u001b[38;5;241m*\u001b[39mkwargs)\n",
      "File \u001b[1;32mc:\\Projects\\Workshop2024\\.venv\\Lib\\site-packages\\unstructured\\chunking\\__init__.py:69\u001b[0m, in \u001b[0;36madd_chunking_strategy.<locals>.decorator.<locals>.wrapper\u001b[1;34m(*args, **kwargs)\u001b[0m\n\u001b[0;32m     66\u001b[0m     \u001b[38;5;28;01mreturn\u001b[39;00m call_args\n\u001b[0;32m     68\u001b[0m \u001b[38;5;66;03m# -- call the partitioning function to get the elements --\u001b[39;00m\n\u001b[1;32m---> 69\u001b[0m elements \u001b[38;5;241m=\u001b[39m \u001b[43mfunc\u001b[49m\u001b[43m(\u001b[49m\u001b[38;5;241;43m*\u001b[39;49m\u001b[43margs\u001b[49m\u001b[43m,\u001b[49m\u001b[43m \u001b[49m\u001b[38;5;241;43m*\u001b[39;49m\u001b[38;5;241;43m*\u001b[39;49m\u001b[43mkwargs\u001b[49m\u001b[43m)\u001b[49m\n\u001b[0;32m     71\u001b[0m \u001b[38;5;66;03m# -- look for a chunking-strategy argument and run the indicated chunker when present --\u001b[39;00m\n\u001b[0;32m     72\u001b[0m call_args \u001b[38;5;241m=\u001b[39m get_call_args_applying_defaults()\n",
      "File \u001b[1;32mc:\\Projects\\Workshop2024\\.venv\\Lib\\site-packages\\unstructured\\partition\\md.py:104\u001b[0m, in \u001b[0;36mpartition_md\u001b[1;34m(filename, file, text, url, include_page_breaks, include_metadata, parser, metadata_filename, metadata_last_modified, chunking_strategy, languages, detect_language_per_element, **kwargs)\u001b[0m\n\u001b[0;32m    100\u001b[0m     text \u001b[38;5;241m=\u001b[39m response\u001b[38;5;241m.\u001b[39mtext\n\u001b[0;32m    102\u001b[0m html \u001b[38;5;241m=\u001b[39m markdown\u001b[38;5;241m.\u001b[39mmarkdown(text, extensions\u001b[38;5;241m=\u001b[39m[\u001b[38;5;124m\"\u001b[39m\u001b[38;5;124mtables\u001b[39m\u001b[38;5;124m\"\u001b[39m])\n\u001b[1;32m--> 104\u001b[0m \u001b[38;5;28;01mreturn\u001b[39;00m \u001b[43mpartition_html\u001b[49m\u001b[43m(\u001b[49m\n\u001b[0;32m    105\u001b[0m \u001b[43m    \u001b[49m\u001b[43mtext\u001b[49m\u001b[38;5;241;43m=\u001b[39;49m\u001b[43mhtml\u001b[49m\u001b[43m,\u001b[49m\n\u001b[0;32m    106\u001b[0m \u001b[43m    \u001b[49m\u001b[43minclude_page_breaks\u001b[49m\u001b[38;5;241;43m=\u001b[39;49m\u001b[43minclude_page_breaks\u001b[49m\u001b[43m,\u001b[49m\n\u001b[0;32m    107\u001b[0m \u001b[43m    \u001b[49m\u001b[43minclude_metadata\u001b[49m\u001b[38;5;241;43m=\u001b[39;49m\u001b[43minclude_metadata\u001b[49m\u001b[43m,\u001b[49m\n\u001b[0;32m    108\u001b[0m \u001b[43m    \u001b[49m\u001b[43mparser\u001b[49m\u001b[38;5;241;43m=\u001b[39;49m\u001b[43mparser\u001b[49m\u001b[43m,\u001b[49m\n\u001b[0;32m    109\u001b[0m \u001b[43m    \u001b[49m\u001b[43msource_format\u001b[49m\u001b[38;5;241;43m=\u001b[39;49m\u001b[38;5;124;43m\"\u001b[39;49m\u001b[38;5;124;43mmd\u001b[39;49m\u001b[38;5;124;43m\"\u001b[39;49m\u001b[43m,\u001b[49m\n\u001b[0;32m    110\u001b[0m \u001b[43m    \u001b[49m\u001b[43mmetadata_filename\u001b[49m\u001b[38;5;241;43m=\u001b[39;49m\u001b[43mmetadata_filename\u001b[49m\u001b[43m,\u001b[49m\n\u001b[0;32m    111\u001b[0m \u001b[43m    \u001b[49m\u001b[43mmetadata_last_modified\u001b[49m\u001b[38;5;241;43m=\u001b[39;49m\u001b[43mmetadata_last_modified\u001b[49m\u001b[43m \u001b[49m\u001b[38;5;129;43;01mor\u001b[39;49;00m\u001b[43m \u001b[49m\u001b[43mlast_modification_date\u001b[49m\u001b[43m,\u001b[49m\n\u001b[0;32m    112\u001b[0m \u001b[43m    \u001b[49m\u001b[43mlanguages\u001b[49m\u001b[38;5;241;43m=\u001b[39;49m\u001b[43mlanguages\u001b[49m\u001b[43m,\u001b[49m\n\u001b[0;32m    113\u001b[0m \u001b[43m    \u001b[49m\u001b[43mdetect_language_per_element\u001b[49m\u001b[38;5;241;43m=\u001b[39;49m\u001b[43mdetect_language_per_element\u001b[49m\u001b[43m,\u001b[49m\n\u001b[0;32m    114\u001b[0m \u001b[43m    \u001b[49m\u001b[43mdetection_origin\u001b[49m\u001b[38;5;241;43m=\u001b[39;49m\u001b[43mDETECTION_ORIGIN\u001b[49m\u001b[43m,\u001b[49m\n\u001b[0;32m    115\u001b[0m \u001b[43m\u001b[49m\u001b[43m)\u001b[49m\n",
      "File \u001b[1;32mc:\\Projects\\Workshop2024\\.venv\\Lib\\site-packages\\unstructured\\documents\\elements.py:518\u001b[0m, in \u001b[0;36mprocess_metadata.<locals>.decorator.<locals>.wrapper\u001b[1;34m(*args, **kwargs)\u001b[0m\n\u001b[0;32m    516\u001b[0m \u001b[38;5;129m@functools\u001b[39m\u001b[38;5;241m.\u001b[39mwraps(func)\n\u001b[0;32m    517\u001b[0m \u001b[38;5;28;01mdef\u001b[39;00m \u001b[38;5;21mwrapper\u001b[39m(\u001b[38;5;241m*\u001b[39margs: _P\u001b[38;5;241m.\u001b[39margs, \u001b[38;5;241m*\u001b[39m\u001b[38;5;241m*\u001b[39mkwargs: _P\u001b[38;5;241m.\u001b[39mkwargs) \u001b[38;5;241m-\u001b[39m\u001b[38;5;241m>\u001b[39m List[Element]:\n\u001b[1;32m--> 518\u001b[0m     elements \u001b[38;5;241m=\u001b[39m \u001b[43mfunc\u001b[49m\u001b[43m(\u001b[49m\u001b[38;5;241;43m*\u001b[39;49m\u001b[43margs\u001b[49m\u001b[43m,\u001b[49m\u001b[43m \u001b[49m\u001b[38;5;241;43m*\u001b[39;49m\u001b[38;5;241;43m*\u001b[39;49m\u001b[43mkwargs\u001b[49m\u001b[43m)\u001b[49m\n\u001b[0;32m    519\u001b[0m     sig \u001b[38;5;241m=\u001b[39m inspect\u001b[38;5;241m.\u001b[39msignature(func)\n\u001b[0;32m    520\u001b[0m     params: Dict[\u001b[38;5;28mstr\u001b[39m, Any] \u001b[38;5;241m=\u001b[39m \u001b[38;5;28mdict\u001b[39m(\u001b[38;5;241m*\u001b[39m\u001b[38;5;241m*\u001b[39m\u001b[38;5;28mdict\u001b[39m(\u001b[38;5;28mzip\u001b[39m(sig\u001b[38;5;241m.\u001b[39mparameters, args)), \u001b[38;5;241m*\u001b[39m\u001b[38;5;241m*\u001b[39mkwargs)\n",
      "File \u001b[1;32mc:\\Projects\\Workshop2024\\.venv\\Lib\\site-packages\\unstructured\\file_utils\\filetype.py:613\u001b[0m, in \u001b[0;36madd_filetype.<locals>.decorator.<locals>.wrapper\u001b[1;34m(*args, **kwargs)\u001b[0m\n\u001b[0;32m    611\u001b[0m \u001b[38;5;129m@functools\u001b[39m\u001b[38;5;241m.\u001b[39mwraps(func)\n\u001b[0;32m    612\u001b[0m \u001b[38;5;28;01mdef\u001b[39;00m \u001b[38;5;21mwrapper\u001b[39m(\u001b[38;5;241m*\u001b[39margs: _P\u001b[38;5;241m.\u001b[39margs, \u001b[38;5;241m*\u001b[39m\u001b[38;5;241m*\u001b[39mkwargs: _P\u001b[38;5;241m.\u001b[39mkwargs) \u001b[38;5;241m-\u001b[39m\u001b[38;5;241m>\u001b[39m List[Element]:\n\u001b[1;32m--> 613\u001b[0m     elements \u001b[38;5;241m=\u001b[39m \u001b[43mfunc\u001b[49m\u001b[43m(\u001b[49m\u001b[38;5;241;43m*\u001b[39;49m\u001b[43margs\u001b[49m\u001b[43m,\u001b[49m\u001b[43m \u001b[49m\u001b[38;5;241;43m*\u001b[39;49m\u001b[38;5;241;43m*\u001b[39;49m\u001b[43mkwargs\u001b[49m\u001b[43m)\u001b[49m\n\u001b[0;32m    614\u001b[0m     sig \u001b[38;5;241m=\u001b[39m inspect\u001b[38;5;241m.\u001b[39msignature(func)\n\u001b[0;32m    615\u001b[0m     params: Dict[\u001b[38;5;28mstr\u001b[39m, Any] \u001b[38;5;241m=\u001b[39m \u001b[38;5;28mdict\u001b[39m(\u001b[38;5;241m*\u001b[39m\u001b[38;5;241m*\u001b[39m\u001b[38;5;28mdict\u001b[39m(\u001b[38;5;28mzip\u001b[39m(sig\u001b[38;5;241m.\u001b[39mparameters, args)), \u001b[38;5;241m*\u001b[39m\u001b[38;5;241m*\u001b[39mkwargs)\n",
      "File \u001b[1;32mc:\\Projects\\Workshop2024\\.venv\\Lib\\site-packages\\unstructured\\file_utils\\filetype.py:585\u001b[0m, in \u001b[0;36madd_metadata.<locals>.wrapper\u001b[1;34m(*args, **kwargs)\u001b[0m\n\u001b[0;32m    582\u001b[0m \u001b[38;5;66;03m# NOTE (yao): do not use cast here as cast(None) still is None\u001b[39;00m\n\u001b[0;32m    583\u001b[0m \u001b[38;5;28;01mif\u001b[39;00m \u001b[38;5;129;01mnot\u001b[39;00m \u001b[38;5;28mstr\u001b[39m(kwargs\u001b[38;5;241m.\u001b[39mget(\u001b[38;5;124m\"\u001b[39m\u001b[38;5;124mmodel_name\u001b[39m\u001b[38;5;124m\"\u001b[39m, \u001b[38;5;124m\"\u001b[39m\u001b[38;5;124m\"\u001b[39m))\u001b[38;5;241m.\u001b[39mstartswith(\u001b[38;5;124m\"\u001b[39m\u001b[38;5;124mchipper\u001b[39m\u001b[38;5;124m\"\u001b[39m):\n\u001b[0;32m    584\u001b[0m     \u001b[38;5;66;03m# NOTE(alan): Skip hierarchy if using chipper, as it should take care of that\u001b[39;00m\n\u001b[1;32m--> 585\u001b[0m     elements \u001b[38;5;241m=\u001b[39m \u001b[43mset_element_hierarchy\u001b[49m\u001b[43m(\u001b[49m\u001b[43melements\u001b[49m\u001b[43m)\u001b[49m\n\u001b[0;32m    587\u001b[0m \u001b[38;5;28;01mfor\u001b[39;00m element \u001b[38;5;129;01min\u001b[39;00m elements:\n\u001b[0;32m    588\u001b[0m     \u001b[38;5;66;03m# NOTE(robinson) - Attached files have already run through this logic\u001b[39;00m\n\u001b[0;32m    589\u001b[0m     \u001b[38;5;66;03m# in their own partitioning function\u001b[39;00m\n\u001b[0;32m    590\u001b[0m     \u001b[38;5;28;01mif\u001b[39;00m element\u001b[38;5;241m.\u001b[39mmetadata\u001b[38;5;241m.\u001b[39mattached_to_filename \u001b[38;5;129;01mis\u001b[39;00m \u001b[38;5;28;01mNone\u001b[39;00m:\n",
      "File \u001b[1;32mc:\\Projects\\Workshop2024\\.venv\\Lib\\site-packages\\unstructured\\partition\\common.py:242\u001b[0m, in \u001b[0;36mset_element_hierarchy\u001b[1;34m(elements, ruleset)\u001b[0m\n\u001b[0;32m    240\u001b[0m parent_id \u001b[38;5;241m=\u001b[39m \u001b[38;5;28;01mNone\u001b[39;00m\n\u001b[0;32m    241\u001b[0m element_category \u001b[38;5;241m=\u001b[39m \u001b[38;5;28mgetattr\u001b[39m(element, \u001b[38;5;124m\"\u001b[39m\u001b[38;5;124mcategory\u001b[39m\u001b[38;5;124m\"\u001b[39m, \u001b[38;5;28;01mNone\u001b[39;00m)\n\u001b[1;32m--> 242\u001b[0m element_category_depth \u001b[38;5;241m=\u001b[39m \u001b[38;5;28mgetattr\u001b[39m(element\u001b[38;5;241m.\u001b[39mmetadata, \u001b[38;5;124m\"\u001b[39m\u001b[38;5;124mcategory_depth\u001b[39m\u001b[38;5;124m\"\u001b[39m, \u001b[38;5;241m0\u001b[39m) \u001b[38;5;129;01mor\u001b[39;00m \u001b[38;5;241m0\u001b[39m\n\u001b[0;32m    244\u001b[0m \u001b[38;5;28;01mif\u001b[39;00m \u001b[38;5;129;01mnot\u001b[39;00m element_category:\n\u001b[0;32m    245\u001b[0m     \u001b[38;5;28;01mcontinue\u001b[39;00m\n",
      "File \u001b[1;32mc:\\Projects\\Workshop2024\\.venv\\Lib\\site-packages\\unstructured\\documents\\elements.py:290\u001b[0m, in \u001b[0;36mElementMetadata.__getattr__\u001b[1;34m(self, attr_name)\u001b[0m\n\u001b[0;32m    287\u001b[0m         \u001b[38;5;28;01mreturn\u001b[39;00m \u001b[38;5;28;01mFalse\u001b[39;00m\n\u001b[0;32m    288\u001b[0m     \u001b[38;5;28;01mreturn\u001b[39;00m \u001b[38;5;28mself\u001b[39m\u001b[38;5;241m.\u001b[39mfields \u001b[38;5;241m==\u001b[39m other\u001b[38;5;241m.\u001b[39mfields\n\u001b[1;32m--> 290\u001b[0m \u001b[38;5;28;01mdef\u001b[39;00m \u001b[38;5;21m__getattr__\u001b[39m(\u001b[38;5;28mself\u001b[39m, attr_name: \u001b[38;5;28mstr\u001b[39m) \u001b[38;5;241m-\u001b[39m\u001b[38;5;241m>\u001b[39m \u001b[38;5;28;01mNone\u001b[39;00m:\n\u001b[0;32m    291\u001b[0m \u001b[38;5;250m    \u001b[39m\u001b[38;5;124;03m\"\"\"Only called when attribute doesn't exist.\"\"\"\u001b[39;00m\n\u001b[0;32m    292\u001b[0m     \u001b[38;5;28;01mif\u001b[39;00m attr_name \u001b[38;5;129;01min\u001b[39;00m \u001b[38;5;28mself\u001b[39m\u001b[38;5;241m.\u001b[39m_known_field_names:\n",
      "\u001b[1;31mKeyboardInterrupt\u001b[0m: "
     ]
    }
   ],
   "source": [
    "%run 2.rag-implementation-2.ipynb"
   ]
  },
  {
   "cell_type": "code",
   "execution_count": null,
   "metadata": {},
   "outputs": [],
   "source": [
    "# Pure Vector Search\n",
    "query = \"scalable storage solution\"\n",
    "query_embeddings = model.encode(query, normalize_embeddings=True)\n",
    "vector_query = VectorizedQuery(\n",
    "    vector=query_embeddings.tolist(), k_nearest_neighbors=3, fields=\"contentVector\"\n",
    ")\n",
    "\n",
    "results = search_client.search(\n",
    "    search_text=query,\n",
    "    vector_queries=[vector_query],\n",
    "    select=[\"title\", \"content\", \"category\"],\n",
    "    top=3,\n",
    ")\n",
    "\n",
    "print_results(results)"
   ]
  }
 ],
 "metadata": {
  "kernelspec": {
   "display_name": ".venv",
   "language": "python",
   "name": "python3"
  },
  "language_info": {
   "codemirror_mode": {
    "name": "ipython",
    "version": 3
   },
   "file_extension": ".py",
   "mimetype": "text/x-python",
   "name": "python",
   "nbconvert_exporter": "python",
   "pygments_lexer": "ipython3",
   "version": "3.11.4"
  }
 },
 "nbformat": 4,
 "nbformat_minor": 2
}
